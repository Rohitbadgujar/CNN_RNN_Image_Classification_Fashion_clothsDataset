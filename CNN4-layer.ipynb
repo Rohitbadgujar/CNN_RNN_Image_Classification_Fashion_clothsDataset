{
 "cells": [
  {
   "cell_type": "code",
   "execution_count": 1,
   "metadata": {},
   "outputs": [
    {
     "name": "stderr",
     "output_type": "stream",
     "text": [
      "Using TensorFlow backend.\n"
     ]
    }
   ],
   "source": [
    "import os,cv2\n",
    "import numpy as np\n",
    "import matplotlib.pyplot as plt\n",
    "from keras.preprocessing import image\n",
    "from sklearn.utils import shuffle\n",
    "from sklearn.model_selection import train_test_split\n",
    "from keras import backend as K\n",
    "#K.set_image_dim_ordering('th')\n",
    "\n",
    "from keras.utils import np_utils\n",
    "from keras.models import Sequential\n",
    "from keras.layers.core import Dense, Dropout, Activation, Flatten\n",
    "from keras.layers.convolutional import Convolution2D, MaxPooling2D\n",
    "from keras.optimizers import SGD,RMSprop,adam\n",
    "import pandas as pd\n",
    "import csv\n",
    "from os.path import splitext\n",
    "from sklearn.preprocessing import LabelEncoder\n",
    "from PIL import Image\n",
    "from tensorflow.keras.callbacks import TensorBoard"
   ]
  },
  {
   "cell_type": "code",
   "execution_count": 2,
   "metadata": {},
   "outputs": [],
   "source": [
    "# Load training and test data into dataframes\n",
    "PATH = os.getcwd()\n",
    "from keras.utils import to_categorical\n",
    "df = pd.read_csv(PATH + '\\\\CNN-image-dataset.csv');\n",
    "\n",
    "df = df.iloc[np.random.permutation(len(df))]\n",
    "data_train = df[0:5000]\n",
    "data_test = df[5001:]\n",
    "\n",
    "# X forms the training images, and y forms the training labels\n",
    "X = np.array(data_train.iloc[:, 3:])\n",
    "y = to_categorical(np.array(data_train.iloc[:, 1]))\n",
    "\n",
    "# Here I split original training data to sub-training (80%) and validation data (20%)\n",
    "X_train, X_val, y_train, y_val = train_test_split(X, y, test_size=0.2, random_state=13)\n",
    "\n",
    "# X_test forms the test images, and y_test forms the test labels\n",
    "X_test = np.array(data_test.iloc[:, 3:])\n",
    "y_test = to_categorical(np.array(data_test.iloc[:, 1]))"
   ]
  },
  {
   "cell_type": "code",
   "execution_count": 3,
   "metadata": {},
   "outputs": [],
   "source": [
    "# Each image's dimension is 28 x 28\n",
    "img_rows, img_cols = 28, 28\n",
    "input_shape = (img_rows, img_cols, 1)\n",
    "\n",
    "# Prepare the training images\n",
    "X_train = X_train.reshape(X_train.shape[0], img_rows, img_cols, 1)\n",
    "X_train = X_train.astype('float32')\n",
    "X_train /= 255\n",
    "\n",
    "# Prepare the test images\n",
    "X_test = X_test.reshape(X_test.shape[0], img_rows, img_cols, 1)\n",
    "X_test = X_test.astype('float32')\n",
    "X_test /= 255\n",
    "\n",
    "# Prepare the validation images\n",
    "X_val = X_val.reshape(X_val.shape[0], img_rows, img_cols, 1)\n",
    "X_val = X_val.astype('float32')\n",
    "X_val /= 255"
   ]
  },
  {
   "cell_type": "code",
   "execution_count": 4,
   "metadata": {},
   "outputs": [
    {
     "name": "stdout",
     "output_type": "stream",
     "text": [
      "(4000, 28, 28, 1)\n",
      "(5000, 28, 28, 1)\n",
      "(1000, 28, 28, 1)\n",
      "(1000, 3)\n"
     ]
    }
   ],
   "source": [
    "print(X_train.shape)\n",
    "print(X_test.shape)\n",
    "print(X_val.shape)\n",
    "print(y_val.shape)"
   ]
  },
  {
   "cell_type": "code",
   "execution_count": 5,
   "metadata": {},
   "outputs": [
    {
     "name": "stdout",
     "output_type": "stream",
     "text": [
      "WARNING:tensorflow:From C:\\Users\\rohit\\Miniconda3\\lib\\site-packages\\tensorflow\\python\\framework\\op_def_library.py:263: colocate_with (from tensorflow.python.framework.ops) is deprecated and will be removed in a future version.\n",
      "Instructions for updating:\n",
      "Colocations handled automatically by placer.\n",
      "WARNING:tensorflow:From C:\\Users\\rohit\\Miniconda3\\lib\\site-packages\\keras\\backend\\tensorflow_backend.py:3445: calling dropout (from tensorflow.python.ops.nn_ops) with keep_prob is deprecated and will be removed in a future version.\n",
      "Instructions for updating:\n",
      "Please use `rate` instead of `keep_prob`. Rate should be set to `rate = 1 - keep_prob`.\n"
     ]
    }
   ],
   "source": [
    "import keras\n",
    "from keras.models import Sequential\n",
    "from keras.layers import Dense, Dropout, Flatten\n",
    "from keras.layers import Conv2D, MaxPooling2D, BatchNormalization\n",
    "\n",
    "cnn4 = Sequential()\n",
    "cnn4.add(Conv2D(32, kernel_size=(3, 3), activation='relu', input_shape=input_shape))\n",
    "cnn4.add(BatchNormalization())\n",
    "\n",
    "cnn4.add(Conv2D(32, kernel_size=(3, 3), activation='relu'))\n",
    "cnn4.add(BatchNormalization())\n",
    "cnn4.add(MaxPooling2D(pool_size=(2, 2)))\n",
    "cnn4.add(Dropout(0.25))\n",
    "\n",
    "cnn4.add(Conv2D(64, kernel_size=(3, 3), activation='relu'))\n",
    "cnn4.add(BatchNormalization())\n",
    "cnn4.add(Dropout(0.25))\n",
    "\n",
    "cnn4.add(Conv2D(128, kernel_size=(3, 3), activation='relu'))\n",
    "cnn4.add(BatchNormalization())\n",
    "cnn4.add(MaxPooling2D(pool_size=(2, 2)))\n",
    "cnn4.add(Dropout(0.25))\n",
    "\n",
    "cnn4.add(Flatten())\n",
    "\n",
    "cnn4.add(Dense(512, activation='relu'))\n",
    "cnn4.add(BatchNormalization())\n",
    "cnn4.add(Dropout(0.25))\n",
    "\n",
    "cnn4.add(Dense(128, activation='relu'))\n",
    "cnn4.add(BatchNormalization())\n",
    "cnn4.add(Dropout(0.25))\n",
    "\n",
    "cnn4.add(Dense(3, activation='softmax'))"
   ]
  },
  {
   "cell_type": "code",
   "execution_count": 6,
   "metadata": {},
   "outputs": [],
   "source": [
    "cnn4.compile(loss=keras.losses.categorical_crossentropy,\n",
    "              optimizer=keras.optimizers.Adam(),\n",
    "              metrics=['accuracy'])"
   ]
  },
  {
   "cell_type": "code",
   "execution_count": 7,
   "metadata": {},
   "outputs": [
    {
     "name": "stdout",
     "output_type": "stream",
     "text": [
      "_________________________________________________________________\n",
      "Layer (type)                 Output Shape              Param #   \n",
      "=================================================================\n",
      "conv2d_1 (Conv2D)            (None, 26, 26, 32)        320       \n",
      "_________________________________________________________________\n",
      "batch_normalization_1 (Batch (None, 26, 26, 32)        128       \n",
      "_________________________________________________________________\n",
      "conv2d_2 (Conv2D)            (None, 24, 24, 32)        9248      \n",
      "_________________________________________________________________\n",
      "batch_normalization_2 (Batch (None, 24, 24, 32)        128       \n",
      "_________________________________________________________________\n",
      "max_pooling2d_1 (MaxPooling2 (None, 12, 12, 32)        0         \n",
      "_________________________________________________________________\n",
      "dropout_1 (Dropout)          (None, 12, 12, 32)        0         \n",
      "_________________________________________________________________\n",
      "conv2d_3 (Conv2D)            (None, 10, 10, 64)        18496     \n",
      "_________________________________________________________________\n",
      "batch_normalization_3 (Batch (None, 10, 10, 64)        256       \n",
      "_________________________________________________________________\n",
      "dropout_2 (Dropout)          (None, 10, 10, 64)        0         \n",
      "_________________________________________________________________\n",
      "conv2d_4 (Conv2D)            (None, 8, 8, 128)         73856     \n",
      "_________________________________________________________________\n",
      "batch_normalization_4 (Batch (None, 8, 8, 128)         512       \n",
      "_________________________________________________________________\n",
      "max_pooling2d_2 (MaxPooling2 (None, 4, 4, 128)         0         \n",
      "_________________________________________________________________\n",
      "dropout_3 (Dropout)          (None, 4, 4, 128)         0         \n",
      "_________________________________________________________________\n",
      "flatten_1 (Flatten)          (None, 2048)              0         \n",
      "_________________________________________________________________\n",
      "dense_1 (Dense)              (None, 512)               1049088   \n",
      "_________________________________________________________________\n",
      "batch_normalization_5 (Batch (None, 512)               2048      \n",
      "_________________________________________________________________\n",
      "dropout_4 (Dropout)          (None, 512)               0         \n",
      "_________________________________________________________________\n",
      "dense_2 (Dense)              (None, 128)               65664     \n",
      "_________________________________________________________________\n",
      "batch_normalization_6 (Batch (None, 128)               512       \n",
      "_________________________________________________________________\n",
      "dropout_5 (Dropout)          (None, 128)               0         \n",
      "_________________________________________________________________\n",
      "dense_3 (Dense)              (None, 3)                 387       \n",
      "=================================================================\n",
      "Total params: 1,220,643\n",
      "Trainable params: 1,218,851\n",
      "Non-trainable params: 1,792\n",
      "_________________________________________________________________\n"
     ]
    }
   ],
   "source": [
    "cnn4.summary()"
   ]
  },
  {
   "cell_type": "code",
   "execution_count": 8,
   "metadata": {},
   "outputs": [
    {
     "name": "stdout",
     "output_type": "stream",
     "text": [
      "WARNING:tensorflow:From C:\\Users\\rohit\\Miniconda3\\lib\\site-packages\\tensorflow\\python\\ops\\math_ops.py:3066: to_int32 (from tensorflow.python.ops.math_ops) is deprecated and will be removed in a future version.\n",
      "Instructions for updating:\n",
      "Use tf.cast instead.\n",
      "Train on 4000 samples, validate on 1000 samples\n",
      "Epoch 1/50\n",
      "4000/4000 [==============================] - 26s 6ms/step - loss: 0.5029 - acc: 0.8222 - val_loss: 1.0815 - val_acc: 0.7920\n",
      "Epoch 2/50\n",
      "4000/4000 [==============================] - 20s 5ms/step - loss: 0.0742 - acc: 0.9860 - val_loss: 0.3038 - val_acc: 0.8560\n",
      "Epoch 3/50\n",
      "4000/4000 [==============================] - 19s 5ms/step - loss: 0.0315 - acc: 0.9947 - val_loss: 0.1462 - val_acc: 0.9570\n",
      "Epoch 4/50\n",
      "4000/4000 [==============================] - 19s 5ms/step - loss: 0.0254 - acc: 0.9955 - val_loss: 0.1166 - val_acc: 0.9680\n",
      "Epoch 5/50\n",
      "4000/4000 [==============================] - 19s 5ms/step - loss: 0.0165 - acc: 0.9965 - val_loss: 0.1269 - val_acc: 0.9690\n",
      "Epoch 6/50\n",
      "4000/4000 [==============================] - 19s 5ms/step - loss: 0.0156 - acc: 0.9973 - val_loss: 0.1523 - val_acc: 0.9640\n",
      "Epoch 7/50\n",
      "4000/4000 [==============================] - 18s 5ms/step - loss: 0.0111 - acc: 0.9980 - val_loss: 0.1347 - val_acc: 0.9680\n",
      "Epoch 8/50\n",
      "4000/4000 [==============================] - 19s 5ms/step - loss: 0.0126 - acc: 0.9970 - val_loss: 0.1145 - val_acc: 0.9740\n",
      "Epoch 9/50\n",
      "4000/4000 [==============================] - 19s 5ms/step - loss: 0.0118 - acc: 0.9980 - val_loss: 0.0884 - val_acc: 0.9800\n",
      "Epoch 10/50\n",
      "4000/4000 [==============================] - 18s 5ms/step - loss: 0.0089 - acc: 0.9982 - val_loss: 0.0437 - val_acc: 0.9880\n",
      "Epoch 11/50\n",
      "4000/4000 [==============================] - 17s 4ms/step - loss: 0.0075 - acc: 0.9987 - val_loss: 0.0445 - val_acc: 0.9890\n",
      "Epoch 12/50\n",
      "4000/4000 [==============================] - 18s 4ms/step - loss: 0.0058 - acc: 0.9992 - val_loss: 0.0310 - val_acc: 0.9920\n",
      "Epoch 13/50\n",
      "4000/4000 [==============================] - 18s 5ms/step - loss: 0.0046 - acc: 0.9992 - val_loss: 0.0414 - val_acc: 0.9890\n",
      "Epoch 14/50\n",
      "4000/4000 [==============================] - 19s 5ms/step - loss: 0.0043 - acc: 0.9990 - val_loss: 0.0440 - val_acc: 0.9900\n",
      "Epoch 15/50\n",
      "4000/4000 [==============================] - 19s 5ms/step - loss: 0.0030 - acc: 0.9995 - val_loss: 0.0323 - val_acc: 0.9910\n",
      "Epoch 16/50\n",
      "4000/4000 [==============================] - 17s 4ms/step - loss: 0.0041 - acc: 0.9990 - val_loss: 0.0329 - val_acc: 0.9920\n",
      "Epoch 17/50\n",
      "4000/4000 [==============================] - 19s 5ms/step - loss: 0.0030 - acc: 0.9995 - val_loss: 0.0325 - val_acc: 0.9920\n",
      "Epoch 18/50\n",
      "4000/4000 [==============================] - 19s 5ms/step - loss: 0.0032 - acc: 0.9992 - val_loss: 0.0268 - val_acc: 0.9960\n",
      "Epoch 19/50\n",
      "4000/4000 [==============================] - 18s 4ms/step - loss: 0.0028 - acc: 0.9992 - val_loss: 0.0239 - val_acc: 0.9960\n",
      "Epoch 20/50\n",
      "4000/4000 [==============================] - 17s 4ms/step - loss: 0.0045 - acc: 0.9990 - val_loss: 0.0412 - val_acc: 0.9910\n",
      "Epoch 21/50\n",
      "4000/4000 [==============================] - 18s 4ms/step - loss: 0.0038 - acc: 0.9988 - val_loss: 0.0571 - val_acc: 0.9880\n",
      "Epoch 22/50\n",
      "4000/4000 [==============================] - 17s 4ms/step - loss: 0.0041 - acc: 0.9985 - val_loss: 0.0294 - val_acc: 0.9950\n",
      "Epoch 23/50\n",
      "4000/4000 [==============================] - 18s 5ms/step - loss: 0.0039 - acc: 0.9985 - val_loss: 0.0277 - val_acc: 0.9960\n",
      "Epoch 24/50\n",
      "4000/4000 [==============================] - 19s 5ms/step - loss: 0.0041 - acc: 0.9992 - val_loss: 0.0278 - val_acc: 0.9950\n",
      "Epoch 25/50\n",
      "4000/4000 [==============================] - 19s 5ms/step - loss: 0.0024 - acc: 0.9995 - val_loss: 0.0307 - val_acc: 0.9960\n",
      "Epoch 26/50\n",
      "4000/4000 [==============================] - 17s 4ms/step - loss: 0.0044 - acc: 0.9992 - val_loss: 0.0370 - val_acc: 0.9920\n",
      "Epoch 27/50\n",
      "4000/4000 [==============================] - 17s 4ms/step - loss: 0.0022 - acc: 0.9992 - val_loss: 0.0418 - val_acc: 0.9890\n",
      "Epoch 28/50\n",
      "4000/4000 [==============================] - 17s 4ms/step - loss: 0.0024 - acc: 0.9992 - val_loss: 0.0303 - val_acc: 0.9950\n",
      "Epoch 29/50\n",
      "4000/4000 [==============================] - 17s 4ms/step - loss: 0.0030 - acc: 0.9992 - val_loss: 0.0294 - val_acc: 0.9960\n",
      "Epoch 30/50\n",
      "4000/4000 [==============================] - 17s 4ms/step - loss: 0.0017 - acc: 1.0000 - val_loss: 0.0309 - val_acc: 0.9960\n",
      "Epoch 31/50\n",
      "4000/4000 [==============================] - 17s 4ms/step - loss: 0.0015 - acc: 0.9995 - val_loss: 0.0311 - val_acc: 0.9960\n",
      "Epoch 32/50\n",
      "4000/4000 [==============================] - 17s 4ms/step - loss: 9.3065e-04 - acc: 1.0000 - val_loss: 0.0286 - val_acc: 0.9960\n",
      "Epoch 33/50\n",
      "4000/4000 [==============================] - 17s 4ms/step - loss: 9.7575e-04 - acc: 0.9998 - val_loss: 0.0287 - val_acc: 0.9960\n",
      "Epoch 34/50\n",
      "4000/4000 [==============================] - 17s 4ms/step - loss: 0.0014 - acc: 0.9995 - val_loss: 0.0247 - val_acc: 0.9970\n",
      "Epoch 35/50\n",
      "4000/4000 [==============================] - 17s 4ms/step - loss: 0.0012 - acc: 0.9995 - val_loss: 0.0224 - val_acc: 0.9960\n",
      "Epoch 36/50\n",
      "4000/4000 [==============================] - 17s 4ms/step - loss: 6.6815e-04 - acc: 1.0000 - val_loss: 0.0236 - val_acc: 0.9960\n",
      "Epoch 37/50\n",
      "4000/4000 [==============================] - 17s 4ms/step - loss: 0.0014 - acc: 0.9998 - val_loss: 0.0226 - val_acc: 0.9970\n",
      "Epoch 38/50\n",
      "4000/4000 [==============================] - 17s 4ms/step - loss: 0.0022 - acc: 0.9992 - val_loss: 0.0273 - val_acc: 0.9970\n",
      "Epoch 39/50\n",
      "4000/4000 [==============================] - 17s 4ms/step - loss: 0.0023 - acc: 0.9995 - val_loss: 0.0243 - val_acc: 0.9970\n",
      "Epoch 40/50\n",
      "4000/4000 [==============================] - 17s 4ms/step - loss: 0.0033 - acc: 0.9990 - val_loss: 0.0298 - val_acc: 0.9960\n",
      "Epoch 41/50\n",
      "4000/4000 [==============================] - 17s 4ms/step - loss: 5.4721e-04 - acc: 1.0000 - val_loss: 0.0350 - val_acc: 0.9960\n",
      "Epoch 42/50\n",
      "4000/4000 [==============================] - 17s 4ms/step - loss: 0.0015 - acc: 0.9995 - val_loss: 0.0277 - val_acc: 0.9960\n",
      "Epoch 43/50\n",
      "4000/4000 [==============================] - 17s 4ms/step - loss: 0.0012 - acc: 0.9998 - val_loss: 0.0268 - val_acc: 0.9960\n",
      "Epoch 44/50\n",
      "4000/4000 [==============================] - 17s 4ms/step - loss: 9.6453e-04 - acc: 0.9998 - val_loss: 0.0268 - val_acc: 0.9960\n",
      "Epoch 45/50\n",
      "4000/4000 [==============================] - 17s 4ms/step - loss: 4.8516e-04 - acc: 1.0000 - val_loss: 0.0251 - val_acc: 0.9970\n",
      "Epoch 46/50\n",
      "4000/4000 [==============================] - 17s 4ms/step - loss: 4.4390e-04 - acc: 1.0000 - val_loss: 0.0252 - val_acc: 0.9970\n",
      "Epoch 47/50\n",
      "4000/4000 [==============================] - 17s 4ms/step - loss: 3.3443e-04 - acc: 1.0000 - val_loss: 0.0262 - val_acc: 0.9970\n",
      "Epoch 48/50\n",
      "4000/4000 [==============================] - 17s 4ms/step - loss: 0.0010 - acc: 0.9998 - val_loss: 0.0302 - val_acc: 0.9960\n",
      "Epoch 49/50\n",
      "4000/4000 [==============================] - 18s 4ms/step - loss: 4.2710e-04 - acc: 1.0000 - val_loss: 0.0261 - val_acc: 0.9970\n",
      "Epoch 50/50\n",
      "4000/4000 [==============================] - 17s 4ms/step - loss: 6.2512e-04 - acc: 0.9998 - val_loss: 0.0258 - val_acc: 0.9960\n",
      "--- 901.9240398406982 seconds ---\n"
     ]
    }
   ],
   "source": [
    "import time\n",
    "start_time = time.time()\n",
    "history4 = cnn4.fit(X_train, y_train,\n",
    "          batch_size=256,\n",
    "          epochs=50,\n",
    "          verbose=1,\n",
    "          validation_data=(X_val, y_val))\n",
    "\n",
    "print(\"--- %s seconds ---\" % (time.time() - start_time))\n",
    "cnn4_time = time.time() - start_time"
   ]
  },
  {
   "cell_type": "code",
   "execution_count": 9,
   "metadata": {},
   "outputs": [
    {
     "name": "stdout",
     "output_type": "stream",
     "text": [
      "Test loss: 0.02646232193792239\n",
      "Test accuracy: 0.9968\n"
     ]
    }
   ],
   "source": [
    "score4 = cnn4.evaluate(X_test, y_test, verbose=0)\n",
    "print('Test loss:', score4[0])\n",
    "print('Test accuracy:', score4[1])"
   ]
  },
  {
   "cell_type": "code",
   "execution_count": 10,
   "metadata": {},
   "outputs": [
    {
     "name": "stdout",
     "output_type": "stream",
     "text": [
      "50\n"
     ]
    },
    {
     "data": {
      "text/plain": [
       "<matplotlib.legend.Legend at 0x1b8009cd5f8>"
      ]
     },
     "execution_count": 10,
     "metadata": {},
     "output_type": "execute_result"
    },
    {
     "data": {
      "image/png": "[encoded data removed]",
      "text/plain": [
       "<Figure size 504x360 with 1 Axes>"
      ]
     },
     "metadata": {
      "needs_background": "light"
     },
     "output_type": "display_data"
    },
    {
     "data": {
      "image/png": "[encoded data removed]",
      "text/plain": [
       "<Figure size 504x360 with 1 Axes>"
      ]
     },
     "metadata": {
      "needs_background": "light"
     },
     "output_type": "display_data"
    }
   ],
   "source": [
    "# visualizing losses and accuracy\n",
    "train_loss=history4.history['loss']\n",
    "val_loss=history4.history['val_loss']\n",
    "train_acc=history4.history['acc']\n",
    "val_acc=history4.history['val_acc']\n",
    "xc=range(50)\n",
    "print(len(train_loss))\n",
    "plt.figure(1,figsize=(7,5))\n",
    "plt.plot(xc,train_loss)\n",
    "plt.plot(xc,val_loss)\n",
    "plt.xlabel('num of Epochs')\n",
    "plt.ylabel('loss')\n",
    "plt.title('train_loss vs val_loss')\n",
    "plt.grid(True)\n",
    "plt.legend(['train','val'])\n",
    "#print plt.style.available # use bmh, classic,ggplot for big pictures\n",
    "#plt.style.use(['classic'])\n",
    "\n",
    "plt.figure(2,figsize=(7,5))\n",
    "plt.plot(xc,train_acc)\n",
    "plt.plot(xc,val_acc)\n",
    "plt.xlabel('num of Epochs')\n",
    "plt.ylabel('accuracy')\n",
    "plt.title('train_acc vs val_acc')\n",
    "plt.grid(True)\n",
    "plt.legend(['train','val'],loc=4)"
   ]
  },
  {
   "cell_type": "code",
   "execution_count": 11,
   "metadata": {},
   "outputs": [],
   "source": [
    "# get the predictions for the test data\n",
    "predicted_classes = cnn4.predict_classes(X_test)\n",
    "\n",
    "# get the indices to be plotted\n",
    "y_true = data_test.iloc[:, 1].values\n",
    "correct = np.nonzero(predicted_classes==y_true)[0]\n",
    "incorrect = np.nonzero(predicted_classes!=y_true)[0]"
   ]
  },
  {
   "cell_type": "code",
   "execution_count": 12,
   "metadata": {},
   "outputs": [
    {
     "name": "stdout",
     "output_type": "stream",
     "text": [
      "4984\n",
      "16\n",
      "--- 99.68 is the Prediction Accuracy ---\n"
     ]
    }
   ],
   "source": [
    "print(len(correct))\n",
    "print(len(incorrect))\n",
    "\n",
    "pred_accuracy = (len(correct)/5000) * 100\n",
    "\n",
    "print(\"--- %s is the Prediction Accuracy ---\" % (pred_accuracy))"
   ]
  },
  {
   "cell_type": "code",
   "execution_count": 13,
   "metadata": {},
   "outputs": [
    {
     "name": "stdout",
     "output_type": "stream",
     "text": [
      "5000\n",
      "5000\n"
     ]
    },
    {
     "data": {
      "image/png": "[encoded data removed]",
      "text/plain": [
       "<Figure size 576x576 with 2 Axes>"
      ]
     },
     "metadata": {
      "needs_background": "light"
     },
     "output_type": "display_data"
    }
   ],
   "source": [
    "print(len(y_test))\n",
    "print(len(predicted_classes))\n",
    "classes = {0: 'Shirts', \n",
    "           1: 'Shoes', \n",
    "           2: 'Trouser'}\n",
    "\n",
    "class_names = ['Shirts','Shoes','Trouser']\n",
    "import itertools\n",
    "from sklearn.metrics import confusion_matrix, classification_report\n",
    "def plot_confusion_matrix(cm, classes,\n",
    "                          title='Confusion matrix',\n",
    "                          cmap=plt.cm.Blues):\n",
    "    plt.figure(figsize = (8,8))\n",
    "    plt.imshow(cm, interpolation='nearest', cmap=cmap)\n",
    "    plt.title(title)\n",
    "    plt.colorbar()\n",
    "    tick_marks = np.arange(len(classes))\n",
    "    plt.xticks(tick_marks, classes, rotation=45)\n",
    "    plt.yticks(tick_marks, classes)\n",
    "\n",
    "    fmt = 'd'\n",
    "    thresh = cm.max() / 2.\n",
    "    for i, j in itertools.product(range(cm.shape[0]), range(cm.shape[1])):\n",
    "        plt.text(j, i, format(cm[i, j], fmt),\n",
    "                 horizontalalignment=\"center\",\n",
    "                 color=\"white\" if cm[i, j] > thresh else \"black\")\n",
    "\n",
    "    \n",
    "    plt.tight_layout()\n",
    "    plt.ylabel('True label')\n",
    "    plt.xlabel('Predicted label')\n",
    "    plt.show()\n",
    "    \n",
    "cnf_matrix = confusion_matrix(data_test.iloc[:, 1], predicted_classes)\n",
    "plot_confusion_matrix(cnf_matrix, classes = class_names)"
   ]
  },
  {
   "cell_type": "code",
   "execution_count": 14,
   "metadata": {},
   "outputs": [
    {
     "data": {
      "text/plain": [
       "99.68"
      ]
     },
     "execution_count": 14,
     "metadata": {},
     "output_type": "execute_result"
    }
   ],
   "source": [
    "pred_accuracy"
   ]
  },
  {
   "cell_type": "code",
   "execution_count": 15,
   "metadata": {},
   "outputs": [
    {
     "data": {
      "text/plain": [
       "901.9240398406982"
      ]
     },
     "execution_count": 15,
     "metadata": {},
     "output_type": "execute_result"
    }
   ],
   "source": [
    "cnn4_time"
   ]
  },
  {
   "cell_type": "code",
   "execution_count": null,
   "metadata": {},
   "outputs": [
    {
     "name": "stdout",
     "output_type": "stream",
     "text": [
      "Saved model to disk\n"
     ]
    }
   ],
   "source": [
    "# Saving and loading model and weights\n",
    "from keras.models import model_from_json\n",
    "from keras.models import load_model\n",
    "\n",
    "# serialize model to JSON\n",
    "model_json = cnn4.to_json()\n",
    "with open(\"cnn4.json\", \"w\") as json_file:\n",
    "    json_file.write(model_json)\n",
    "# serialize weights to HDF5\n",
    "cnn4.save_weights(\"cnn4.h5\")\n",
    "print(\"Saved model to disk\")"
   ]
  },
  {
   "cell_type": "code",
   "execution_count": null,
   "metadata": {},
   "outputs": [],
   "source": []
  }
 ],
 "metadata": {
  "kernelspec": {
   "display_name": "Python 3",
   "language": "python",
   "name": "python3"
  },
  "language_info": {
   "codemirror_mode": {
    "name": "ipython",
    "version": 3
   },
   "file_extension": ".py",
   "mimetype": "text/x-python",
   "name": "python",
   "nbconvert_exporter": "python",
   "pygments_lexer": "ipython3",
   "version": "3.7.1"
  }
 },
 "nbformat": 4,
 "nbformat_minor": 2
}
