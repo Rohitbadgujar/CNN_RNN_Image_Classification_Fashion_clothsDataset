{
 "cells": [
  {
   "cell_type": "code",
   "execution_count": 1,
   "metadata": {},
   "outputs": [
    {
     "name": "stderr",
     "output_type": "stream",
     "text": [
      "Using TensorFlow backend.\n"
     ]
    }
   ],
   "source": [
    "import os,cv2\n",
    "import numpy as np\n",
    "import matplotlib.pyplot as plt\n",
    "from keras.preprocessing import image\n",
    "from sklearn.utils import shuffle\n",
    "from sklearn.model_selection import train_test_split\n",
    "from keras import backend as K\n",
    "#K.set_image_dim_ordering('th')\n",
    "\n",
    "from keras.utils import np_utils\n",
    "from keras.models import Sequential\n",
    "from keras.layers.core import Dense, Dropout, Activation, Flatten\n",
    "from keras.layers.convolutional import Convolution2D, MaxPooling2D\n",
    "from keras.optimizers import SGD,RMSprop,adam\n",
    "import pandas as pd"
   ]
  },
  {
   "cell_type": "code",
   "execution_count": 2,
   "metadata": {},
   "outputs": [],
   "source": [
    "PATH = os.getcwd()\n",
    "# Define data path\n",
    "data_path = PATH + '\\images'\n",
    "data_dir_list = os.listdir(data_path)\n",
    "data_dir_list.sort() #good initial sort but doesnt sort numerically very well\n",
    "data_dir_list = sorted(data_dir_list)"
   ]
  },
  {
   "cell_type": "code",
   "execution_count": 3,
   "metadata": {},
   "outputs": [
    {
     "name": "stdout",
     "output_type": "stream",
     "text": [
      "C:\\Users\\rohit\\Downloads\\style_filter.csv\n"
     ]
    }
   ],
   "source": [
    "import csv\n",
    "from os.path import splitext\n",
    "img_rows=128\n",
    "img_cols=128\n",
    "num_channel=1\n",
    "num_epoch=10\n",
    "data_path_label = PATH + '\\style_filter.csv'\n",
    "print(data_path_label)\n",
    "styledf=pd.read_csv(data_path_label)\n",
    "styledf.sort_values(\"id\", axis = 0, ascending = True, \n",
    "                 inplace = True, na_position ='last') \n",
    "styledf = styledf.loc[:, ~styledf.columns.str.contains('^Unnamed')]\n",
    "styledf\n",
    "styledf= styledf.sort_values(by=['id'])"
   ]
  },
  {
   "cell_type": "code",
   "execution_count": 4,
   "metadata": {},
   "outputs": [
    {
     "data": {
      "text/html": [
       "<div>\n",
       "<style scoped>\n",
       "    .dataframe tbody tr th:only-of-type {\n",
       "        vertical-align: middle;\n",
       "    }\n",
       "\n",
       "    .dataframe tbody tr th {\n",
       "        vertical-align: top;\n",
       "    }\n",
       "\n",
       "    .dataframe thead th {\n",
       "        text-align: right;\n",
       "    }\n",
       "</style>\n",
       "<table border=\"1\" class=\"dataframe\">\n",
       "  <thead>\n",
       "    <tr style=\"text-align: right;\">\n",
       "      <th></th>\n",
       "      <th>id</th>\n",
       "      <th>gender</th>\n",
       "      <th>masterCategory</th>\n",
       "      <th>subCategory</th>\n",
       "      <th>articleType</th>\n",
       "      <th>baseColour</th>\n",
       "      <th>season</th>\n",
       "      <th>year</th>\n",
       "      <th>usage</th>\n",
       "      <th>productDisplayName</th>\n",
       "    </tr>\n",
       "  </thead>\n",
       "  <tbody>\n",
       "    <tr>\n",
       "      <th>4045</th>\n",
       "      <td>1163</td>\n",
       "      <td>Men</td>\n",
       "      <td>Apparel</td>\n",
       "      <td>Topwear</td>\n",
       "      <td>Shirts</td>\n",
       "      <td>Blue</td>\n",
       "      <td>Summer</td>\n",
       "      <td>2011.0</td>\n",
       "      <td>Sports</td>\n",
       "      <td>Nike Sahara Team India Fanwear Round Neck Jersey</td>\n",
       "    </tr>\n",
       "  </tbody>\n",
       "</table>\n",
       "</div>"
      ],
      "text/plain": [
       "        id gender masterCategory subCategory articleType baseColour  season  \\\n",
       "4045  1163    Men        Apparel     Topwear      Shirts       Blue  Summer   \n",
       "\n",
       "        year   usage                                productDisplayName  \n",
       "4045  2011.0  Sports  Nike Sahara Team India Fanwear Round Neck Jersey  "
      ]
     },
     "execution_count": 4,
     "metadata": {},
     "output_type": "execute_result"
    }
   ],
   "source": [
    "styledf.head()\n",
    "styledf.loc[styledf['id'].astype(str) == '1163']"
   ]
  },
  {
   "cell_type": "code",
   "execution_count": 5,
   "metadata": {},
   "outputs": [],
   "source": [
    "count = 0\n",
    "flag = True\n",
    "if(flag==True):\n",
    "    \n",
    "    img_data_list=[]\n",
    "    id_list = []\n",
    "    label_list = []\n",
    "    imageDataframe  = pd.DataFrame(columns=['id', 'colorcode'])\n",
    "    for img in data_dir_list:\n",
    "        count = count + 1\n",
    "        #df = styledf.loc[styledf['id'].isin(splitext(img)[0])]\n",
    "       # dropping null value columns to avoid errors \n",
    "        styledf.dropna(inplace = True) \n",
    "        d = styledf.loc[styledf['id'].astype(str) == splitext(img)[0]]\n",
    "        # display \n",
    "        if not d.empty:\n",
    "            k = d.head(1).articleType.values\n",
    "            label_list.append(k)\n",
    "            input_img=cv2.imread(data_path + '/'+ img )\n",
    "            input_img=cv2.cvtColor(input_img, cv2.COLOR_BGR2GRAY)\n",
    "            input_img_resize=cv2.resize(input_img,(128,128))\n",
    "            img_data_list.append(input_img_resize)\n",
    "            id_list.append(splitext(img)[0])\n",
    "            imageDataframe = imageDataframe.append({'id': splitext(img)[0], 'colorcode': input_img}, ignore_index=True)\n",
    "            if count > 1000:\n",
    "                break\n"
   ]
  },
  {
   "cell_type": "code",
   "execution_count": 6,
   "metadata": {},
   "outputs": [
    {
     "name": "stdout",
     "output_type": "stream",
     "text": [
      "['Shirts' 'Shirts' 'Shirts' 'Shirts' 'Shirts' 'Shirts' 'Shirts' 'Trouser'\n",
      " 'Trouser' 'Shirts' 'Shirts' 'Shirts' 'Shirts' 'Trouser' 'Shirts' 'Shirts'\n",
      " 'Shirts' 'Shirts' 'Shirts' 'Shirts' 'Shirts' 'Shirts' 'Shirts' 'Shirts'\n",
      " 'Shirts' 'Shirts' 'Shirts' 'Shirts' 'Shirts' 'Shirts' 'Shirts' 'Shirts'\n",
      " 'Shirts' 'Shirts' 'Shirts' 'Shirts' 'Shirts' 'Shirts' 'Shirts' 'Shirts'\n",
      " 'Shirts' 'Shirts' 'Shirts' 'Shirts' 'Shirts' 'Shirts' 'Shirts' 'Shirts'\n",
      " 'Shirts' 'Shirts' 'Shirts' 'Shirts' 'Shirts' 'Shirts' 'Shirts' 'Shirts'\n",
      " 'Shirts' 'Shoes' 'Shoes' 'Shoes' 'Shoes' 'Shoes' 'Shoes' 'Shoes' 'Shoes'\n",
      " 'Shoes' 'Shoes' 'Shoes' 'Shoes' 'Shoes' 'Shoes' 'Shoes' 'Shoes' 'Shoes'\n",
      " 'Shoes' 'Shoes' 'Shoes' 'Shoes' 'Shoes' 'Shoes' 'Shoes' 'Shirts' 'Shirts'\n",
      " 'Shirts' 'Shirts' 'Shirts' 'Shirts' 'Shirts' 'Shirts' 'Shirts' 'Shoes'\n",
      " 'Shoes' 'Shoes' 'Shoes' 'Shoes' 'Shoes' 'Shoes' 'Shoes' 'Shoes' 'Shoes'\n",
      " 'Shoes' 'Shirts' 'Shirts' 'Shirts' 'Shirts' 'Shirts' 'Shirts' 'Shirts'\n",
      " 'Shirts' 'Shirts' 'Shirts' 'Shirts' 'Shirts' 'Shirts' 'Shirts' 'Shirts'\n",
      " 'Shirts' 'Shirts' 'Shirts' 'Shirts' 'Shirts' 'Shirts' 'Shirts' 'Shirts'\n",
      " 'Shirts' 'Shirts' 'Shirts' 'Shirts' 'Shirts' 'Shirts' 'Shirts' 'Shirts'\n",
      " 'Shirts' 'Shirts' 'Shirts' 'Shirts' 'Shirts' 'Shirts' 'Shirts' 'Shirts'\n",
      " 'Shirts' 'Shirts' 'Shirts' 'Shirts' 'Shirts' 'Shirts' 'Shirts' 'Shirts'\n",
      " 'Shirts' 'Shirts' 'Shirts' 'Shirts' 'Shirts' 'Shirts' 'Shirts' 'Trouser'\n",
      " 'Shirts' 'Shirts' 'Shirts' 'Shirts' 'Shirts' 'Shirts' 'Trouser' 'Shirts'\n",
      " 'Shirts' 'Shirts' 'Shirts' 'Shirts' 'Shirts' 'Shirts' 'Shirts' 'Shirts'\n",
      " 'Shirts' 'Shirts' 'Shirts' 'Shirts' 'Shirts' 'Shirts' 'Shirts' 'Shirts'\n",
      " 'Shirts' 'Shirts' 'Shirts' 'Shirts' 'Shirts' 'Shirts' 'Shirts' 'Shirts'\n",
      " 'Shirts' 'Shirts' 'Shirts' 'Shirts' 'Shirts' 'Shirts' 'Shirts' 'Shirts'\n",
      " 'Shirts' 'Shirts' 'Shirts' 'Shirts' 'Shirts' 'Shirts' 'Trouser' 'Shirts'\n",
      " 'Trouser' 'Trouser' 'Trouser' 'Shirts' 'Shirts' 'Shirts' 'Shirts'\n",
      " 'Shirts' 'Shirts' 'Shirts' 'Shirts' 'Shirts' 'Shirts' 'Shirts' 'Shirts'\n",
      " 'Shirts' 'Shirts' 'Shirts' 'Shirts' 'Shirts' 'Shirts' 'Shirts' 'Shirts'\n",
      " 'Shirts' 'Shirts' 'Shirts' 'Shirts' 'Shirts' 'Shirts' 'Shirts' 'Shirts'\n",
      " 'Shirts' 'Shirts' 'Shirts' 'Trouser' 'Shirts' 'Shirts' 'Shirts' 'Shirts'\n",
      " 'Shirts' 'Shirts' 'Shoes' 'Shoes' 'Shoes' 'Shoes' 'Shoes' 'Shoes' 'Shoes'\n",
      " 'Shoes' 'Shoes' 'Shoes' 'Shoes' 'Shoes' 'Shoes' 'Shirts' 'Shirts'\n",
      " 'Shirts' 'Shirts' 'Shirts' 'Shirts' 'Shirts' 'Shirts' 'Shirts' 'Shirts'\n",
      " 'Shirts' 'Shirts' 'Shirts' 'Shirts' 'Shirts' 'Shirts' 'Shirts' 'Shirts'\n",
      " 'Shirts' 'Shirts' 'Shirts' 'Shirts' 'Shirts' 'Shirts' 'Shirts' 'Shirts'\n",
      " 'Trouser' 'Shirts' 'Shirts' 'Shirts' 'Shoes' 'Shirts' 'Trouser' 'Shirts'\n",
      " 'Shoes' 'Shoes' 'Shoes' 'Shirts' 'Shirts' 'Shoes' 'Shoes' 'Shoes'\n",
      " 'Shirts' 'Shirts' 'Shirts' 'Shirts' 'Shirts' 'Shirts' 'Shirts' 'Shirts'\n",
      " 'Shirts' 'Shirts' 'Shirts' 'Shirts' 'Shirts' 'Shirts' 'Shirts' 'Shirts'\n",
      " 'Shirts' 'Shirts' 'Shirts' 'Shirts' 'Shirts' 'Shirts' 'Shirts' 'Shirts'\n",
      " 'Shirts' 'Shirts' 'Shirts' 'Shirts' 'Shirts' 'Shirts' 'Shirts' 'Shirts'\n",
      " 'Shirts' 'Shirts' 'Shirts' 'Shirts' 'Shirts' 'Shirts' 'Shirts' 'Shirts'\n",
      " 'Shirts' 'Shirts' 'Shirts' 'Shirts' 'Shirts' 'Shirts' 'Shirts' 'Shirts'\n",
      " 'Shirts' 'Shirts' 'Shirts' 'Shirts' 'Shirts' 'Shirts' 'Shirts' 'Shirts'\n",
      " 'Shirts' 'Shirts' 'Shirts' 'Shirts' 'Shirts' 'Shirts' 'Shirts' 'Shirts'\n",
      " 'Shirts' 'Shirts' 'Shirts' 'Shirts' 'Shirts' 'Shirts' 'Shirts' 'Shirts'\n",
      " 'Shirts' 'Shirts' 'Shirts' 'Shirts' 'Shirts' 'Shirts' 'Shirts' 'Shirts'\n",
      " 'Shirts' 'Shirts' 'Shirts' 'Shirts' 'Shirts' 'Shirts' 'Shirts' 'Shirts'\n",
      " 'Shirts' 'Shirts' 'Shirts' 'Shirts' 'Shirts' 'Shirts' 'Shirts' 'Shirts'\n",
      " 'Shirts' 'Shirts' 'Shirts' 'Shirts' 'Shirts' 'Shirts' 'Shirts' 'Shirts'\n",
      " 'Shirts' 'Shirts' 'Shirts' 'Shirts' 'Shirts' 'Shirts' 'Shirts' 'Shirts'\n",
      " 'Shirts' 'Shirts' 'Shirts' 'Shirts' 'Shirts' 'Shirts' 'Shirts' 'Shirts'\n",
      " 'Shirts' 'Shirts' 'Shirts' 'Shirts' 'Shirts' 'Shirts' 'Shirts' 'Shirts'\n",
      " 'Shirts' 'Shirts' 'Shirts' 'Shirts' 'Shirts' 'Shirts' 'Shirts' 'Shirts'\n",
      " 'Shirts' 'Shirts' 'Shirts' 'Shirts' 'Shirts' 'Shirts' 'Shirts' 'Shirts'\n",
      " 'Shirts' 'Shirts' 'Shirts' 'Shirts' 'Shirts' 'Shirts' 'Shirts' 'Shirts'\n",
      " 'Shirts' 'Shirts' 'Shirts' 'Shirts' 'Shirts' 'Shirts' 'Shirts' 'Shirts'\n",
      " 'Shirts' 'Shirts' 'Shirts' 'Shirts' 'Shirts' 'Shirts' 'Shirts' 'Shirts'\n",
      " 'Shirts' 'Shirts' 'Shirts' 'Shirts' 'Shirts' 'Shirts' 'Shirts' 'Shirts'\n",
      " 'Shirts' 'Shirts' 'Shirts' 'Shirts' 'Trouser' 'Trouser' 'Trouser'\n",
      " 'Trouser' 'Shirts' 'Shirts' 'Shirts' 'Shirts' 'Shirts' 'Shirts' 'Shirts'\n",
      " 'Shirts' 'Shirts' 'Shirts' 'Shirts' 'Shirts' 'Shirts' 'Shirts' 'Trouser'\n",
      " 'Trouser' 'Trouser' 'Trouser' 'Trouser' 'Trouser' 'Trouser' 'Trouser'\n",
      " 'Trouser' 'Trouser' 'Trouser' 'Shirts' 'Shirts' 'Shirts' 'Shirts'\n",
      " 'Shirts' 'Shirts'] ['10003', '10005', '10006', '10007', '10008', '10009', '10010', '10011', '10012', '10013', '10015', '10019', '10022', '10023', '10024', '10025', '10026', '10027', '10028', '10030', '10031', '10032', '10034', '10040', '10041', '10042', '10043', '10044', '10045', '10046', '10047', '10048', '10049', '10050', '10051', '10053', '10054', '10057', '10058', '10059', '10060', '10061', '10062', '10063', '10064', '10065', '10066', '10067', '10068', '10069', '10070', '10071', '10072', '10073', '10074', '10075', '10076', '10127', '10142', '10144', '10148', '10152', '10154', '10155', '10156', '10158', '10159', '10160', '10162', '10167', '10168', '10169', '10170', '10172', '10174', '10175', '10176', '10177', '10178', '10182', '10183', '10184', '10185', '10186', '10187', '10188', '10189', '10190', '10255', '10256', '10266', '10267', '10278', '10279', '10295', '10296', '10297', '10301', '10305', '10306', '10308', '10338', '10339', '10340', '10341', '10343', '10344', '10345', '10346', '10347', '10348', '10350', '10352', '10355', '10356', '10357', '10358', '10359', '10361', '10362', '10364', '10367', '10369', '10370', '10372', '10373', '10374', '10376', '10377', '10378', '10379', '10380', '10381', '10404', '10407', '10409', '10410', '10411', '10412', '10413', '10414', '10421', '10423', '10424', '10425', '10426', '10427', '10430', '10431', '10432', '10433', '10434', '10435', '10436', '10437', '10438', '10439', '10440', '10441', '10442', '10443', '10444', '10445', '10446', '10447', '10448', '10449', '10450', '10451', '10452', '10453', '10454', '10455', '10456', '10457', '10458', '10459', '10460', '10461', '10462', '10463', '10464', '10465', '10466', '10467', '10468', '10469', '10470', '10471', '10472', '10473', '10474', '10475', '10476', '10477', '10478', '10479', '10480', '10481', '10482', '10483', '10484', '10485', '10486', '10487', '10488', '10489', '10490', '10491', '10492', '10493', '10494', '10495', '10496', '10497', '10499', '10501', '10502', '10503', '10504', '10505', '10507', '10509', '10510', '10563', '10564', '10565', '10566', '10567', '10570', '10571', '10573', '10574', '10575', '10576', '10577', '10578', '10579', '10597', '10598', '10601', '10602', '10610', '10611', '10612', '10613', '10615', '10626', '10627', '10628', '10629', '10630', '10631', '10632', '10635', '10636', '10639', '10640', '10641', '10642', '10643', '10644', '10645', '10646', '10649', '10650', '10662', '10664', '10665', '10669', '10670', '10681', '10682', '10683', '10684', '10689', '10690', '10691', '10692', '10708', '10709', '10710', '10711', '10712', '10714', '10721', '10722', '10723', '10742', '10750', '10751', '10752', '10755', '10756', '10758', '10763', '10764', '10770', '10771', '10772', '10776', '10787', '10788', '10789', '10790', '10791', '10792', '10793', '10794', '10795', '10796', '10797', '10799', '10800', '10801', '10802', '10803', '10805', '10806', '10807', '10809', '10810', '10811', '10812', '10813', '10814', '10815', '10816', '10817', '10818', '10819', '10820', '10821', '10822', '10823', '10824', '10825', '10826', '10827', '10828', '10829', '10830', '10831', '10832', '10833', '10834', '10835', '10836', '10837', '10839', '10840', '10842', '10843', '10844', '10845', '10846', '10848', '10849', '10850', '10851', '10852', '10853', '10854', '10855', '10856', '10857', '10858', '10859', '10861', '10862', '10863', '10864', '10865', '10866', '10867', '10869', '10870', '10871', '10872', '10873', '10874', '10875', '10876', '10877', '10878', '10879', '10880', '10882', '10883', '10884', '10885', '10886', '10987', '10988', '10989', '10990', '10991', '10992', '10993', '10994', '10995', '10996', '11008', '11009', '11014', '11018', '11019', '11020', '11021', '11022', '11023', '11024', '11025', '11027', '11030', '11032', '11035', '11039', '11040', '11041', '11042', '11043', '11044', '11045', '11046', '11047', '11048', '11049', '11050', '11051', '11052', '11053', '11054', '11055', '11056', '11057', '11058', '11059', '11062', '11063', '11064', '11067', '11069', '11070', '11071', '11072', '11079', '11080', '11081', '11082', '11083', '11084', '11085', '11086', '11087', '11088', '11089', '11090', '11091', '11092', '11100', '11101', '11102', '11103', '11104', '11105', '11106', '11107', '11108', '11109', '11110', '11111', '11112', '11113', '11114', '11115', '11116', '11117', '11118', '11119', '11125', '11126', '11128', '11129', '11143', '11144', '11145', '11146', '11147', '11148', '11161', '11162', '11163', '11164', '11165', '11166', '11167', '11168', '11233', '11234', '11235', '11236', '11237', '11239', '11240', '11241', '11242', '11243', '11244', '11250', '11254', '11255', '11256', '11257', '11269']\n"
     ]
    },
    {
     "data": {
      "text/plain": [
       "515"
      ]
     },
     "execution_count": 6,
     "metadata": {},
     "output_type": "execute_result"
    }
   ],
   "source": [
    "styledf = styledf.loc[styledf['id'].isin(id_list)]\n",
    "styledf= styledf.sort_values(by=['id'],ascending=True)\n",
    "label_list =styledf['articleType'].iloc[:].values\n",
    "print(label_list,id_list)\n",
    "len(label_list)"
   ]
  },
  {
   "cell_type": "code",
   "execution_count": 7,
   "metadata": {},
   "outputs": [
    {
     "name": "stdout",
     "output_type": "stream",
     "text": [
      "(515, 128, 128)\n"
     ]
    }
   ],
   "source": [
    "\n",
    "img_data = np.array(img_data_list)\n",
    "img_data = img_data.astype('float32')\n",
    "img_data /= 255\n",
    "print (img_data.shape)\n",
    "\n"
   ]
  },
  {
   "cell_type": "code",
   "execution_count": 8,
   "metadata": {},
   "outputs": [
    {
     "name": "stdout",
     "output_type": "stream",
     "text": [
      "[0 0 0 0 0 0 0 1 1 0 0 0 0 1 0 0 0 0 0 0 0 0 0 0 0 0 0 0 0 0 0 0 0 0 0 0 0\n",
      " 0 0 0 0 0 0 0 0 0 0 0 0 0 0 0 0 0 0 0 0 2 2 2 2 2 2 2 2 2 2 2 2 2 2 2 2 2\n",
      " 2 2 2 2 2 2 2 0 0 0 0 0 0 0 0 0 2 2 2 2 2 2 2 2 2 2 2 0 0 0 0 0 0 0 0 0 0\n",
      " 0 0 0 0 0 0 0 0 0 0 0 0 0 0 0 0 0 0 0 0 0 0 0 0 0 0 0 0 0 0 0 0 0 0 0 0 0\n",
      " 0 0 0 0 0 0 0 1 0 0 0 0 0 0 1 0 0 0 0 0 0 0 0 0 0 0 0 0 0 0 0 0 0 0 0 0 0\n",
      " 0 0 0 0 0 0 0 0 0 0 0 0 0 0 0 0 0 1 0 1 1 1 0 0 0 0 0 0 0 0 0 0 0 0 0 0 0\n",
      " 0 0 0 0 0 0 0 0 0 0 0 0 0 0 0 0 1 0 0 0 0 0 0 2 2 2 2 2 2 2 2 2 2 2 2 2 0\n",
      " 0 0 0 0 0 0 0 0 0 0 0 0 0 0 0 0 0 0 0 0 0 0 0 0 0 1 0 0 0 2 0 1 0 2 2 2 0\n",
      " 0 2 2 2 0 0 0 0 0 0 0 0 0 0 0 0 0 0 0 0 0 0 0 0 0 0 0 0 0 0 0 0 0 0 0 0 0\n",
      " 0 0 0 0 0 0 0 0 0 0 0 0 0 0 0 0 0 0 0 0 0 0 0 0 0 0 0 0 0 0 0 0 0 0 0 0 0\n",
      " 0 0 0 0 0 0 0 0 0 0 0 0 0 0 0 0 0 0 0 0 0 0 0 0 0 0 0 0 0 0 0 0 0 0 0 0 0\n",
      " 0 0 0 0 0 0 0 0 0 0 0 0 0 0 0 0 0 0 0 0 0 0 0 0 0 0 0 0 0 0 0 0 0 0 0 0 0\n",
      " 0 0 0 0 0 0 0 0 0 0 0 0 0 0 0 0 0 0 0 0 0 0 0 0 0 0 0 0 0 0 0 0 0 0 0 0 1\n",
      " 1 1 1 0 0 0 0 0 0 0 0 0 0 0 0 0 0 1 1 1 1 1 1 1 1 1 1 1 0 0 0 0 0 0]\n",
      "Index(['Shirts', 'Trouser', 'Shoes'], dtype='object')\n",
      "(array([0, 1, 2], dtype=int64), array([433,  27,  55], dtype=int64))\n",
      "3\n"
     ]
    },
    {
     "data": {
      "text/plain": [
       "array([[1., 0., 0., ..., 0., 0., 0.],\n",
       "       [1., 0., 0., ..., 0., 0., 0.],\n",
       "       [1., 0., 0., ..., 0., 0., 0.],\n",
       "       ...,\n",
       "       [1., 0., 0., ..., 0., 0., 0.],\n",
       "       [1., 0., 0., ..., 0., 0., 0.],\n",
       "       [1., 0., 0., ..., 0., 0., 0.]], dtype=float32)"
      ]
     },
     "execution_count": 8,
     "metadata": {},
     "output_type": "execute_result"
    }
   ],
   "source": [
    "from sklearn.preprocessing import LabelEncoder\n",
    "labelencoder = LabelEncoder()\n",
    "\n",
    "encoded_data, mapping_index = pd.Series(label_list).factorize()\n",
    "s = pd.Series(label_list, dtype=\"category\")\n",
    "y = pd.factorize(s)[0]\n",
    "d = pd.factorize(s)\n",
    "print(encoded_data)\n",
    "label_list = encoded_data\n",
    "print(mapping_index)\n",
    "label_len = len(y)\n",
    "\n",
    "\n",
    "labels = np.array(label_list)\n",
    "# print the count of number of samples for different classes\n",
    "print(np.unique(labels,return_counts=True))\n",
    "# convert class labels to on-hot encoding\n",
    "print(styledf['articleType'].nunique())\n",
    "\n",
    "Y = np_utils.to_categorical(labels, label_len)\n",
    "Y"
   ]
  },
  {
   "cell_type": "code",
   "execution_count": 9,
   "metadata": {},
   "outputs": [
    {
     "name": "stdout",
     "output_type": "stream",
     "text": [
      "(515, 128, 128, 1)\n",
      "(412, 128, 128, 1)\n"
     ]
    },
    {
     "name": "stderr",
     "output_type": "stream",
     "text": [
      "C:\\Users\\rohit\\Miniconda3\\lib\\site-packages\\ipykernel_launcher.py:2: DeprecationWarning: Both axis > a.ndim and axis < -a.ndim - 1 are deprecated and will raise an AxisError in the future.\n",
      "  \n"
     ]
    }
   ],
   "source": [
    "#Shuffle the dataset\n",
    "img_data= np.expand_dims(img_data, axis=4) \n",
    "print (img_data.shape)\n",
    "x,y = shuffle(img_data,Y, random_state=2)\n",
    "# Split the dataset\n",
    "X_train, X_test, y_train, y_test = train_test_split(x, y, test_size=0.2, random_state=2)\n",
    "print(X_train.shape)\n",
    "#X_train = X_train.reshape(412,128, 128, 1)\n",
    "\n"
   ]
  },
  {
   "cell_type": "code",
   "execution_count": null,
   "metadata": {},
   "outputs": [],
   "source": []
  },
  {
   "cell_type": "code",
   "execution_count": null,
   "metadata": {},
   "outputs": [],
   "source": []
  },
  {
   "cell_type": "code",
   "execution_count": 10,
   "metadata": {},
   "outputs": [],
   "source": [
    "num_epoch = 10"
   ]
  },
  {
   "cell_type": "code",
   "execution_count": 11,
   "metadata": {
    "scrolled": true
   },
   "outputs": [
    {
     "name": "stdout",
     "output_type": "stream",
     "text": [
      "(128, 128, 1)\n",
      "WARNING:tensorflow:From C:\\Users\\rohit\\Miniconda3\\lib\\site-packages\\tensorflow\\python\\framework\\op_def_library.py:263: colocate_with (from tensorflow.python.framework.ops) is deprecated and will be removed in a future version.\n",
      "Instructions for updating:\n",
      "Colocations handled automatically by placer.\n",
      "WARNING:tensorflow:From C:\\Users\\rohit\\Miniconda3\\lib\\site-packages\\keras\\backend\\tensorflow_backend.py:3445: calling dropout (from tensorflow.python.ops.nn_ops) with keep_prob is deprecated and will be removed in a future version.\n",
      "Instructions for updating:\n",
      "Please use `rate` instead of `keep_prob`. Rate should be set to `rate = 1 - keep_prob`.\n"
     ]
    },
    {
     "name": "stderr",
     "output_type": "stream",
     "text": [
      "C:\\Users\\rohit\\Miniconda3\\lib\\site-packages\\ipykernel_launcher.py:8: UserWarning: Update your `Conv2D` call to the Keras 2 API: `Conv2D(32, (3, 3), input_shape=(128, 128,..., padding=\"same\")`\n",
      "  \n",
      "C:\\Users\\rohit\\Miniconda3\\lib\\site-packages\\ipykernel_launcher.py:10: UserWarning: Update your `Conv2D` call to the Keras 2 API: `Conv2D(32, (3, 3))`\n",
      "  # Remove the CWD from sys.path while we load stuff.\n",
      "C:\\Users\\rohit\\Miniconda3\\lib\\site-packages\\ipykernel_launcher.py:15: UserWarning: Update your `Conv2D` call to the Keras 2 API: `Conv2D(64, (3, 3))`\n",
      "  from ipykernel import kernelapp as app\n"
     ]
    }
   ],
   "source": [
    "#%%\n",
    "# Defining the model\n",
    "input_shape=img_data[0].shape\n",
    "print(input_shape)\n",
    "\t\t\t\t\t\n",
    "model = Sequential()\n",
    "\n",
    "model.add(Convolution2D(32, 3,3,border_mode='same',input_shape=(128, 128,1)))\n",
    "model.add(Activation('relu'))\n",
    "model.add(Convolution2D(32, 3, 3))\n",
    "model.add(Activation('relu'))\n",
    "model.add(MaxPooling2D(pool_size=(2, 2)))\n",
    "model.add(Dropout(0.5))\n",
    "\n",
    "model.add(Convolution2D(64, 3, 3))\n",
    "model.add(Activation('relu'))\n",
    "#model.add(Convolution2D(64, 3, 3))\n",
    "#model.add(Activation('relu'))\n",
    "model.add(MaxPooling2D(pool_size=(2, 2)))\n",
    "model.add(Dropout(0.5))\n",
    "\n",
    "model.add(Flatten())\n",
    "model.add(Dense(64))\n",
    "model.add(Activation('relu'))\n",
    "model.add(Dropout(0.5))\n",
    "model.add(Dense(label_len))\n",
    "model.add(Activation('softmax'))\n",
    "\n",
    "#sgd = SGD(lr=0.01, decay=1e-6, momentum=0.9, nesterov=True)\n",
    "#model.compile(loss='categorical_crossentropy', optimizer=sgd,metrics=[\"accuracy\"])\n",
    "model.compile(loss='categorical_crossentropy', optimizer='rmsprop',metrics=[\"accuracy\"])\n",
    "\n",
    "# Viewing model_configuration"
   ]
  },
  {
   "cell_type": "code",
   "execution_count": 12,
   "metadata": {},
   "outputs": [],
   "source": [
    "#sgd = SGD(lr=0.01, decay=1e-6, momentum=0.9, nesterov=True)\n",
    "#model.compile(loss='categorical_crossentropy', optimizer=sgd,metrics=[\"accuracy\"])\n",
    "model.compile(loss='categorical_crossentropy', optimizer='rmsprop',metrics=[\"accuracy\"])"
   ]
  },
  {
   "cell_type": "code",
   "execution_count": 13,
   "metadata": {},
   "outputs": [
    {
     "name": "stdout",
     "output_type": "stream",
     "text": [
      "_________________________________________________________________\n",
      "Layer (type)                 Output Shape              Param #   \n",
      "=================================================================\n",
      "conv2d_1 (Conv2D)            (None, 128, 128, 32)      320       \n",
      "_________________________________________________________________\n",
      "activation_1 (Activation)    (None, 128, 128, 32)      0         \n",
      "_________________________________________________________________\n",
      "conv2d_2 (Conv2D)            (None, 126, 126, 32)      9248      \n",
      "_________________________________________________________________\n",
      "activation_2 (Activation)    (None, 126, 126, 32)      0         \n",
      "_________________________________________________________________\n",
      "max_pooling2d_1 (MaxPooling2 (None, 63, 63, 32)        0         \n",
      "_________________________________________________________________\n",
      "dropout_1 (Dropout)          (None, 63, 63, 32)        0         \n",
      "_________________________________________________________________\n",
      "conv2d_3 (Conv2D)            (None, 61, 61, 64)        18496     \n",
      "_________________________________________________________________\n",
      "activation_3 (Activation)    (None, 61, 61, 64)        0         \n",
      "_________________________________________________________________\n",
      "max_pooling2d_2 (MaxPooling2 (None, 30, 30, 64)        0         \n",
      "_________________________________________________________________\n",
      "dropout_2 (Dropout)          (None, 30, 30, 64)        0         \n",
      "_________________________________________________________________\n",
      "flatten_1 (Flatten)          (None, 57600)             0         \n",
      "_________________________________________________________________\n",
      "dense_1 (Dense)              (None, 64)                3686464   \n",
      "_________________________________________________________________\n",
      "activation_4 (Activation)    (None, 64)                0         \n",
      "_________________________________________________________________\n",
      "dropout_3 (Dropout)          (None, 64)                0         \n",
      "_________________________________________________________________\n",
      "dense_2 (Dense)              (None, 515)               33475     \n",
      "_________________________________________________________________\n",
      "activation_5 (Activation)    (None, 515)               0         \n",
      "=================================================================\n",
      "Total params: 3,748,003\n",
      "Trainable params: 3,748,003\n",
      "Non-trainable params: 0\n",
      "_________________________________________________________________\n"
     ]
    },
    {
     "data": {
      "text/plain": [
       "True"
      ]
     },
     "execution_count": 13,
     "metadata": {},
     "output_type": "execute_result"
    }
   ],
   "source": [
    "model.summary()\n",
    "model.get_config()\n",
    "model.layers[0].get_config()\n",
    "model.layers[0].input_shape\t\t\t\n",
    "model.layers[0].output_shape\t\t\t\n",
    "model.layers[0].get_weights()\n",
    "np.shape(model.layers[0].get_weights()[0])\n",
    "model.layers[0].trainable"
   ]
  },
  {
   "cell_type": "code",
   "execution_count": null,
   "metadata": {},
   "outputs": [],
   "source": []
  },
  {
   "cell_type": "code",
   "execution_count": 14,
   "metadata": {},
   "outputs": [
    {
     "name": "stdout",
     "output_type": "stream",
     "text": [
      "WARNING:tensorflow:From C:\\Users\\rohit\\Miniconda3\\lib\\site-packages\\tensorflow\\python\\ops\\math_ops.py:3066: to_int32 (from tensorflow.python.ops.math_ops) is deprecated and will be removed in a future version.\n",
      "Instructions for updating:\n",
      "Use tf.cast instead.\n"
     ]
    },
    {
     "name": "stderr",
     "output_type": "stream",
     "text": [
      "C:\\Users\\rohit\\Miniconda3\\lib\\site-packages\\ipykernel_launcher.py:1: UserWarning: The `nb_epoch` argument in `fit` has been renamed `epochs`.\n",
      "  \"\"\"Entry point for launching an IPython kernel.\n"
     ]
    },
    {
     "name": "stdout",
     "output_type": "stream",
     "text": [
      "Train on 412 samples, validate on 103 samples\n",
      "Epoch 1/10\n",
      "412/412 [==============================] - 11s 28ms/step - loss: 2.5776 - acc: 0.7864 - val_loss: 1.8076 - val_acc: 0.8932\n",
      "Epoch 2/10\n",
      "412/412 [==============================] - 11s 26ms/step - loss: 1.0125 - acc: 0.8083 - val_loss: 2.2607 - val_acc: 0.9029\n",
      "Epoch 3/10\n",
      "412/412 [==============================] - 11s 27ms/step - loss: 0.6113 - acc: 0.8641 - val_loss: 1.0203 - val_acc: 0.9612\n",
      "Epoch 4/10\n",
      "412/412 [==============================] - 12s 28ms/step - loss: 0.2882 - acc: 0.9029 - val_loss: 0.1352 - val_acc: 1.0000\n",
      "Epoch 5/10\n",
      "412/412 [==============================] - 11s 28ms/step - loss: 0.2227 - acc: 0.9466 - val_loss: 0.0827 - val_acc: 0.9515\n",
      "Epoch 6/10\n",
      "412/412 [==============================] - 11s 28ms/step - loss: 0.2390 - acc: 0.9320 - val_loss: 0.0180 - val_acc: 1.0000\n",
      "Epoch 7/10\n",
      "412/412 [==============================] - 12s 28ms/step - loss: 0.3312 - acc: 0.9490 - val_loss: 0.0154 - val_acc: 1.0000\n",
      "Epoch 8/10\n",
      "412/412 [==============================] - 12s 28ms/step - loss: 0.0791 - acc: 0.9806 - val_loss: 0.0712 - val_acc: 0.9903\n",
      "Epoch 9/10\n",
      "412/412 [==============================] - 12s 28ms/step - loss: 0.1421 - acc: 0.9709 - val_loss: 0.1065 - val_acc: 1.0000\n",
      "Epoch 10/10\n",
      "412/412 [==============================] - 12s 28ms/step - loss: 0.1392 - acc: 0.9782 - val_loss: 0.0646 - val_acc: 1.0000\n"
     ]
    }
   ],
   "source": [
    "hist = model.fit(X_train, y_train, batch_size=16, nb_epoch=num_epoch, verbose=1, validation_data=(X_test, y_test))"
   ]
  },
  {
   "cell_type": "code",
   "execution_count": 15,
   "metadata": {},
   "outputs": [
    {
     "name": "stdout",
     "output_type": "stream",
     "text": [
      "10\n"
     ]
    },
    {
     "data": {
      "text/plain": [
       "<matplotlib.legend.Legend at 0x1b492aad400>"
      ]
     },
     "execution_count": 15,
     "metadata": {},
     "output_type": "execute_result"
    },
    {
     "data": {
      "image/png": "[encoded data removed]",
      "text/plain": [
       "<Figure size 504x360 with 1 Axes>"
      ]
     },
     "metadata": {
      "needs_background": "light"
     },
     "output_type": "display_data"
    },
    {
     "data": {
      "image/png": "[encoded data removed]",
      "text/plain": [
       "<Figure size 504x360 with 1 Axes>"
      ]
     },
     "metadata": {
      "needs_background": "light"
     },
     "output_type": "display_data"
    }
   ],
   "source": [
    "# visualizing losses and accuracy\n",
    "train_loss=hist.history['loss']\n",
    "val_loss=hist.history['val_loss']\n",
    "train_acc=hist.history['acc']\n",
    "val_acc=hist.history['val_acc']\n",
    "xc=range(num_epoch)\n",
    "print(len(train_loss))\n",
    "plt.figure(1,figsize=(7,5))\n",
    "plt.plot(xc,train_loss)\n",
    "plt.plot(xc,val_loss)\n",
    "plt.xlabel('num of Epochs')\n",
    "plt.ylabel('loss')\n",
    "plt.title('train_loss vs val_loss')\n",
    "plt.grid(True)\n",
    "plt.legend(['train','val'])\n",
    "#print plt.style.available # use bmh, classic,ggplot for big pictures\n",
    "#plt.style.use(['classic'])\n",
    "\n",
    "plt.figure(2,figsize=(7,5))\n",
    "plt.plot(xc,train_acc)\n",
    "plt.plot(xc,val_acc)\n",
    "plt.xlabel('num of Epochs')\n",
    "plt.ylabel('accuracy')\n",
    "plt.title('train_acc vs val_acc')\n",
    "plt.grid(True)\n",
    "plt.legend(['train','val'],loc=4)\n",
    "#print plt.style.available # use bmh, classic,ggplot for big pictures\n",
    "#plt.style.use(['classic']"
   ]
  },
  {
   "cell_type": "code",
   "execution_count": null,
   "metadata": {},
   "outputs": [],
   "source": []
  },
  {
   "cell_type": "code",
   "execution_count": 18,
   "metadata": {},
   "outputs": [
    {
     "name": "stdout",
     "output_type": "stream",
     "text": [
      "Test Loss: 0.703946590423584\n",
      "Test accuracy: 0.8888888955116272\n",
      "[0]\n"
     ]
    }
   ],
   "source": [
    "score = model.evaluate(X_test, y_test,  verbose=0)\n",
    "print('Test Loss:', score[0])\n",
    "print('Test accuracy:', score[1])\n",
    "\n",
    "test_image = X_test[9:10]\n",
    "print(model.predict_classes(test_image))"
   ]
  },
  {
   "cell_type": "code",
   "execution_count": 30,
   "metadata": {
    "scrolled": true
   },
   "outputs": [
    {
     "name": "stdout",
     "output_type": "stream",
     "text": [
      "(256, 256)\n"
     ]
    },
    {
     "data": {
      "image/png": "[encoded data removed]",
      "text/plain": [
       "<Figure size 432x288 with 1 Axes>"
      ]
     },
     "metadata": {
      "needs_background": "light"
     },
     "output_type": "display_data"
    }
   ],
   "source": [
    "# Testing a new image\n",
    "test_image = cv2.imread(data_path + '/'+ '21379.jpg' )\n",
    " \n",
    "test_image=cv2.cvtColor(test_image, cv2.COLOR_BGR2GRAY)\n",
    "test_image=cv2.resize(test_image,(256,256))\n",
    "plt.imshow(test_image) \n",
    "test_image = np.array(test_image)\n",
    "test_image = test_image.astype('float32')\n",
    "test_image /= 255\n",
    "print (test_image.shape)"
   ]
  },
  {
   "cell_type": "code",
   "execution_count": 31,
   "metadata": {
    "scrolled": false
   },
   "outputs": [
    {
     "name": "stdout",
     "output_type": "stream",
     "text": [
      "[[1. 1. 1. ... 1. 1. 1.]\n",
      " [1. 1. 1. ... 1. 1. 1.]\n",
      " [1. 1. 1. ... 1. 1. 1.]\n",
      " ...\n",
      " [1. 1. 1. ... 1. 1. 1.]\n",
      " [1. 1. 1. ... 1. 1. 1.]\n",
      " [1. 1. 1. ... 1. 1. 1.]]\n",
      "(1, 256, 256, 1)\n",
      "Shirt\n"
     ]
    }
   ],
   "source": [
    "print(test_image)\n",
    "test_image =  test_image.reshape(1,256, 256, 1)\n",
    "#test_image= np.expand_dims(test_image, axis=4) \n",
    "print (test_image.shape)\n",
    "# Predicting the test image\n",
    "#print((model.predict(test_image)))\n",
    "Labelclass = model.predict_classes(test_image)\n",
    "if Labelclass == 0:\n",
    "    print('Shirt')\n",
    "if Labelclass == 2:\n",
    "    print('Shoe')\n",
    "if Labelclass == 1:\n",
    "    print('Trouser')"
   ]
  },
  {
   "cell_type": "code",
   "execution_count": 25,
   "metadata": {},
   "outputs": [
    {
     "name": "stdout",
     "output_type": "stream",
     "text": [
      "       id gender masterCategory subCategory articleType    baseColour  season  \\\n",
      "0   10003  Women        Apparel     Topwear      Shirts         White    Fall   \n",
      "1   10005    Men        Apparel     Topwear      Shirts          Blue    Fall   \n",
      "2   10006    Men        Apparel     Topwear      Shirts         Black    Fall   \n",
      "3   10007  Women        Apparel     Topwear      Shirts         White    Fall   \n",
      "4   10008    Men        Apparel     Topwear      Shirts     Navy Blue    Fall   \n",
      "5   10009    Men        Apparel     Topwear      Shirts           Red    Fall   \n",
      "6   10010    Men        Apparel     Topwear      Shirts         Black    Fall   \n",
      "7   10011    Men        Apparel  Bottomwear     Trouser  Grey Melange  Summer   \n",
      "8   10012    Men        Apparel  Bottomwear     Trouser     Navy Blue    Fall   \n",
      "9   10013    Men        Apparel     Topwear      Shirts        Yellow    Fall   \n",
      "10  10015    Men        Apparel     Topwear      Shirts         White    Fall   \n",
      "11  10019  Women        Apparel     Topwear      Shirts         White    Fall   \n",
      "12  10022    Men        Apparel     Topwear      Shirts          Blue    Fall   \n",
      "13  10023  Women        Apparel  Bottomwear     Trouser          Grey    Fall   \n",
      "14  10024  Women        Apparel     Topwear      Shirts         Black    Fall   \n",
      "15  10025  Women        Apparel     Topwear      Shirts          Pink    Fall   \n",
      "16  10026  Women        Apparel     Topwear      Shirts         Black    Fall   \n",
      "17  10027  Women        Apparel     Topwear      Shirts         White    Fall   \n",
      "18  10028  Women        Apparel     Topwear      Shirts         White    Fall   \n",
      "19  10030  Women        Apparel     Topwear      Shirts         Black    Fall   \n",
      "20  10031    Men        Apparel     Topwear      Shirts     Navy Blue    Fall   \n",
      "21  10032    Men        Apparel     Topwear      Shirts         Black    Fall   \n",
      "22  10034  Women        Apparel     Topwear      Shirts         Black    Fall   \n",
      "23  10040    Men        Apparel     Topwear      Shirts         White    Fall   \n",
      "24  10041  Women        Apparel     Topwear      Shirts         Brown    Fall   \n",
      "25  10042  Women        Apparel     Topwear      Shirts          Pink    Fall   \n",
      "26  10043    Men        Apparel     Topwear      Shirts         Black    Fall   \n",
      "27  10044    Men        Apparel     Topwear      Shirts         Black    Fall   \n",
      "28  10045    Men        Apparel     Topwear      Shirts          Blue    Fall   \n",
      "29  10046    Men        Apparel     Topwear      Shirts         Green    Fall   \n",
      "..    ...    ...            ...         ...         ...           ...     ...   \n",
      "59  10144    Men       Footwear       Shoes       Shoes         Brown    Fall   \n",
      "60  10148    Men       Footwear       Shoes       Shoes         Brown    Fall   \n",
      "61  10152    Men       Footwear       Shoes       Shoes         Black    Fall   \n",
      "62  10154    Men       Footwear       Shoes       Shoes         Brown    Fall   \n",
      "63  10155    Men       Footwear       Shoes       Shoes         Brown    Fall   \n",
      "64  10156    Men       Footwear       Shoes       Shoes         Brown    Fall   \n",
      "65  10158    Men       Footwear       Shoes       Shoes         Black    Fall   \n",
      "66  10159    Men       Footwear       Shoes       Shoes         White    Fall   \n",
      "67  10160    Men       Footwear       Shoes       Shoes         White    Fall   \n",
      "68  10162    Men       Footwear       Shoes       Shoes         White    Fall   \n",
      "69  10167    Men       Footwear       Shoes       Shoes         Black    Fall   \n",
      "70  10168    Men       Footwear       Shoes       Shoes         Black    Fall   \n",
      "71  10169    Men       Footwear       Shoes       Shoes         Brown    Fall   \n",
      "72  10170    Men       Footwear       Shoes       Shoes          Blue    Fall   \n",
      "73  10172    Men       Footwear       Shoes       Shoes          Grey    Fall   \n",
      "74  10174    Men       Footwear       Shoes       Shoes         Black    Fall   \n",
      "75  10175    Men       Footwear       Shoes       Shoes         Black    Fall   \n",
      "76  10176    Men       Footwear       Shoes       Shoes         Black    Fall   \n",
      "77  10177    Men       Footwear       Shoes       Shoes         Brown    Fall   \n",
      "78  10178    Men       Footwear       Shoes       Shoes         Brown    Fall   \n",
      "79  10182  Women       Footwear       Shoes       Shoes         White    Fall   \n",
      "80  10183  Women       Footwear       Shoes       Shoes         White    Fall   \n",
      "81  10184    Men        Apparel     Topwear      Shirts         White    Fall   \n",
      "82  10185    Men        Apparel     Topwear      Shirts         White    Fall   \n",
      "83  10186    Men        Apparel     Topwear      Shirts         Black    Fall   \n",
      "84  10187    Men        Apparel     Topwear      Shirts         Black    Fall   \n",
      "85  10188    Men        Apparel     Topwear      Shirts          Blue    Fall   \n",
      "86  10189    Men        Apparel     Topwear      Shirts          Blue    Fall   \n",
      "87  10190    Men        Apparel     Topwear      Shirts         White    Fall   \n",
      "88  10255    Men        Apparel     Topwear      Shirts          Blue    Fall   \n",
      "\n",
      "      year   usage                                 productDisplayName  \\\n",
      "0   2011.0  Sports             Nike Women As Nike Eleme White T-Shirt   \n",
      "1   2011.0  Sports               Nike Men As Ss Trainin Blue T-Shirts   \n",
      "2   2011.0  Sports                      Nike Men AS T90 Black Tshirts   \n",
      "3   2011.0  Sports            Nike Women As Trophy Swo White T-Shirts   \n",
      "4   2011.0  Sports                   Nike Men Town Navy Blue T-Shirts   \n",
      "5   2011.0  Sports              Nike Men Town Round Red Neck T-Shirts   \n",
      "6   2011.0  Sports              Nike Men As Showdown F Black T-Shirts   \n",
      "7   2012.0  Sports                  Nike Men Grey Melange Track Pants   \n",
      "8   2011.0  Sports           Nike Men's Breakli Navy Blue Track Pants   \n",
      "9   2011.0  Sports             Nike Men As Ss Cruiser Yellow T-Shirts   \n",
      "10  2011.0  Casual        Locomotive Men American Glory White Tshirts   \n",
      "11  2011.0  Sports              Nike Women As Miler Ss White T-Shirts   \n",
      "12  2011.0  Sports                         Nike Men Blue Polo Tshirts   \n",
      "13  2011.0  Sports                Nike Women Regular Grey Track Pants   \n",
      "14  2011.0  Sports            Nike Women As Make Yours Black T-Shirts   \n",
      "15  2011.0  Sports              Nike Women As Element Ja Pink T-Shirt   \n",
      "16  2011.0  Sports            Nike Women As Challenger Black T-Shirts   \n",
      "17  2011.0  Sports                          Nike Women's White Tshirt   \n",
      "18  2011.0  Sports            Nike Women As Club Jerse White T-Shirts   \n",
      "19  2011.0  Sports           Nike Women As See The Win Black T-Shirts   \n",
      "20  2011.0  Sports          Nike Men As Arsenal Co Navy Blue T-Shirts   \n",
      "21  2011.0  Sports              Nike Men AS FCB Core T Black T-shirts   \n",
      "22  2011.0  Sports             Nike Women As Element Ja Black T-Shirt   \n",
      "23  2011.0  Sports                        Nike Men White Polo Tshirts   \n",
      "24  2011.0  Sports                      Nike Women Brown Polo T-shirt   \n",
      "25  2011.0  Sports                       Nike Women Pink Polo Tshirts   \n",
      "26  2011.0  Casual                Puma Men ferrari Black Polo Tshirts   \n",
      "27  2011.0  Casual                Puma Men Ferrari Logo Black Tshirts   \n",
      "28  2011.0  Casual         Puma Men Heroes Party Graphic Blue Tshirts   \n",
      "29  2011.0  Casual              Puma Men Heroes Graphic Green Tshirts   \n",
      "..     ...     ...                                                ...   \n",
      "59  2011.0  Casual              Rockport Men Drsp Wingtip Brown Shoes   \n",
      "60  2011.0  Casual                Rockport Men Sc Slip On Brown Shoes   \n",
      "61  2011.0  Casual                    Rockport Men TR Bal Black Shoes   \n",
      "62  2011.0  Casual                       Rockport Men Bal Brown Shoes   \n",
      "63  2011.0  Casual                    Rockport Men Tr Bal Brown Shoes   \n",
      "64  2011.0  Casual                Rockport Men Sc Slip On Brown Shoes   \n",
      "65  2011.0  Casual                  Puma Men 917 Lo Feuer Black Shoes   \n",
      "66  2011.0  Casual                 Puma Men 917 Mid Spill White Shoes   \n",
      "67  2011.0  Casual         Puma Men 917 Lo Paint Splatter White Shoes   \n",
      "68  2011.0  Casual         Puma Men 917 Lo Paint Splatter White Shoes   \n",
      "69  2011.0  Casual  United Colors of Benetton Men Nighthawk Black ...   \n",
      "70  2011.0  Casual     United Colors of Benetton Men Punk Black Shoes   \n",
      "71  2011.0  Casual  United Colors of Benetton Men HIghlander Brown...   \n",
      "72  2011.0  Casual  United Colors of Benetton Men Highlander Grey ...   \n",
      "73  2011.0  Casual   United Colors of Benetton Men Iceland Grey Shoes   \n",
      "74  2011.0  Casual   United Colors Of Benetton Men Latnam Black Shoes   \n",
      "75  2011.0  Casual    United Colors of Benetton Men Wango Black Shoes   \n",
      "76  2011.0  Casual  United Colors of Benetton Men Cloud 9 Black Shoes   \n",
      "77  2011.0  Casual    United Colors Of Benetton Men Cboar Brown Shoes   \n",
      "78  2011.0  Casual  United Colors of Benetton Men Bournie Brown Shoes   \n",
      "79  2011.0  Casual                   Puma Women Style Cat White Shoes   \n",
      "80  2011.0  Casual     Puma Women Future Cat Ballistic Jr White Shoes   \n",
      "81  2011.0  Casual              Indigo Nation Men  White Stripe Shirt   \n",
      "82  2011.0  Casual         Indigo Nation Men Price catch White Shirts   \n",
      "83  2011.0  Casual        Indigo Nation Men Black & Blue Stripe Shirt   \n",
      "84  2011.0  Casual    Indigo Nation Men Hot Stepper Black Blue Shirts   \n",
      "85  2011.0  Casual      Indigo Nation Men   Blue & White Stripe Shirt   \n",
      "86  2011.0  Casual          Indigo Nation Men Hot Stepper Blue Shirts   \n",
      "87  2011.0  Casual         Indigo Nation Men Club Poplin White Shirts   \n",
      "88  2011.0  Casual                 Locomotive Men Stripes Blue Shirts   \n",
      "\n",
      "                                            colorcode  \n",
      "0   [[255, 255, 255, 255, 255, 255, 255, 255, 255,...  \n",
      "1   [[255, 255, 255, 255, 255, 255, 255, 255, 255,...  \n",
      "2   [[255, 255, 255, 255, 255, 255, 255, 255, 255,...  \n",
      "3   [[255, 255, 255, 255, 255, 255, 255, 255, 255,...  \n",
      "4   [[255, 255, 255, 255, 255, 255, 255, 255, 255,...  \n",
      "5   [[255, 255, 255, 255, 255, 255, 255, 255, 255,...  \n",
      "6   [[255, 255, 255, 255, 255, 255, 255, 255, 255,...  \n",
      "7   [[255, 255, 255, 255, 255, 255, 255, 255, 254,...  \n",
      "8   [[255, 255, 255, 255, 255, 255, 255, 255, 255,...  \n",
      "9   [[255, 255, 255, 255, 255, 255, 255, 255, 255,...  \n",
      "10  [[255, 255, 255, 255, 255, 255, 255, 255, 255,...  \n",
      "11  [[255, 255, 255, 255, 255, 255, 255, 255, 255,...  \n",
      "12  [[255, 255, 255, 255, 255, 255, 255, 255, 255,...  \n",
      "13  [[255, 255, 255, 255, 255, 255, 255, 255, 255,...  \n",
      "14  [[255, 255, 255, 255, 255, 255, 255, 255, 255,...  \n",
      "15  [[255, 255, 255, 255, 255, 255, 255, 255, 255,...  \n",
      "16  [[255, 255, 255, 255, 255, 255, 255, 255, 255,...  \n",
      "17  [[255, 255, 255, 255, 255, 255, 255, 255, 255,...  \n",
      "18  [[255, 255, 255, 255, 255, 255, 255, 255, 255,...  \n",
      "19  [[255, 255, 255, 255, 255, 255, 255, 255, 255,...  \n",
      "20  [[255, 255, 255, 255, 255, 255, 255, 255, 255,...  \n",
      "21  [[255, 255, 255, 255, 255, 255, 255, 255, 255,...  \n",
      "22  [[255, 255, 255, 255, 255, 255, 255, 255, 255,...  \n",
      "23  [[255, 255, 255, 255, 255, 255, 255, 255, 255,...  \n",
      "24  [[255, 255, 255, 255, 255, 255, 255, 255, 255,...  \n",
      "25  [[255, 255, 255, 255, 255, 255, 255, 255, 255,...  \n",
      "26  [[255, 255, 255, 255, 255, 255, 255, 255, 255,...  \n",
      "27  [[255, 255, 255, 255, 255, 255, 255, 255, 255,...  \n",
      "28  [[255, 255, 255, 255, 255, 255, 255, 255, 255,...  \n",
      "29  [[255, 255, 255, 255, 255, 255, 255, 255, 255,...  \n",
      "..                                                ...  \n",
      "59  [[255, 255, 255, 255, 255, 255, 255, 255, 255,...  \n",
      "60  [[255, 255, 255, 255, 255, 255, 255, 255, 255,...  \n",
      "61  [[255, 255, 255, 255, 255, 255, 255, 255, 255,...  \n",
      "62  [[255, 255, 255, 255, 255, 255, 255, 255, 255,...  \n",
      "63  [[255, 255, 255, 255, 255, 255, 255, 255, 255,...  \n",
      "64  [[255, 255, 255, 255, 255, 255, 255, 255, 255,...  \n",
      "65  [[255, 255, 255, 255, 255, 255, 255, 255, 255,...  \n",
      "66  [[255, 255, 255, 255, 255, 255, 255, 255, 255,...  \n",
      "67  [[255, 255, 255, 255, 255, 255, 255, 255, 255,...  \n",
      "68  [[255, 255, 255, 255, 255, 255, 255, 255, 255,...  \n",
      "69  [[255, 255, 255, 255, 255, 255, 255, 255, 255,...  \n",
      "70  [[255, 255, 255, 255, 255, 255, 255, 255, 255,...  \n",
      "71  [[255, 255, 255, 255, 255, 255, 255, 255, 255,...  \n",
      "72  [[255, 255, 255, 255, 255, 255, 255, 255, 255,...  \n",
      "73  [[255, 255, 255, 255, 255, 255, 255, 255, 255,...  \n",
      "74  [[255, 255, 255, 255, 255, 255, 255, 255, 255,...  \n",
      "75  [[255, 255, 255, 255, 255, 255, 255, 255, 255,...  \n",
      "76  [[255, 255, 255, 255, 255, 255, 255, 255, 255,...  \n",
      "77  [[255, 255, 255, 255, 255, 255, 255, 255, 255,...  \n",
      "78  [[255, 255, 255, 255, 255, 255, 255, 255, 255,...  \n",
      "79  [[255, 255, 255, 255, 255, 255, 255, 255, 255,...  \n",
      "80  [[255, 255, 255, 255, 255, 255, 255, 255, 255,...  \n",
      "81  [[255, 255, 255, 255, 255, 255, 255, 255, 255,...  \n",
      "82  [[255, 255, 255, 255, 255, 255, 255, 255, 255,...  \n",
      "83  [[255, 255, 255, 255, 255, 255, 255, 255, 255,...  \n",
      "84  [[255, 255, 255, 255, 255, 255, 255, 255, 255,...  \n",
      "85  [[255, 255, 255, 255, 255, 255, 255, 255, 255,...  \n",
      "86  [[255, 255, 255, 255, 255, 255, 255, 255, 255,...  \n",
      "87  [[255, 255, 255, 255, 255, 255, 255, 255, 255,...  \n",
      "88  [[251, 251, 251, 251, 251, 251, 251, 251, 251,...  \n",
      "\n",
      "[89 rows x 11 columns]\n"
     ]
    }
   ],
   "source": [
    "#Merging image and label data\n",
    "imageDataframe.dtypes\n",
    "#Object to int conversion\n",
    "imageDataframe[\"id\"]= imageDataframe[\"id\"].astype(int)\n",
    "imageDataframe.dtypes\n",
    "df = pd.merge(styledf,\n",
    "                 imageDataframe[['id', 'colorcode']],\n",
    "                 on='id')\n",
    "colorframe = imageDataframe['colorcode']\n",
    "myarray = np.asarray(colorframe)\n",
    "df = df.loc[:, ~df.columns.str.contains('^Unnamed')]\n",
    "print(df)"
   ]
  },
  {
   "cell_type": "code",
   "execution_count": null,
   "metadata": {},
   "outputs": [],
   "source": []
  },
  {
   "cell_type": "code",
   "execution_count": null,
   "metadata": {},
   "outputs": [],
   "source": [
    "X = img_data\n",
    "X"
   ]
  },
  {
   "cell_type": "code",
   "execution_count": null,
   "metadata": {},
   "outputs": [],
   "source": [
    "#Loading labels\n",
    "labels = df['articleType']"
   ]
  },
  {
   "cell_type": "code",
   "execution_count": null,
   "metadata": {},
   "outputs": [],
   "source": []
  },
  {
   "cell_type": "code",
   "execution_count": null,
   "metadata": {},
   "outputs": [],
   "source": [
    "from sklearn.preprocessing import LabelEncoder\n",
    "labelencoder = LabelEncoder()\n",
    "\n",
    "encoded_data, mapping_index = pd.Series(labels).factorize()\n",
    "s = pd.Series(labels, dtype=\"category\")\n",
    "y = pd.factorize(s)[0]\n",
    "d = pd.factorize(s)\n",
    "print(encoded_data)\n",
    "df['class'] = encoded_data\n",
    "print(mapping_index)\n",
    "label_len = len(y)\n",
    "df"
   ]
  },
  {
   "cell_type": "code",
   "execution_count": null,
   "metadata": {},
   "outputs": [],
   "source": [
    "#Shuffle the dataset\n",
    "x,y = shuffle(img_data,y, random_state=2)\n",
    "# Split the dataset\n",
    "X_train, X_test, y_train, y_test = train_test_split(x, y, test_size=0.2, random_state=2)\n",
    "\n",
    "if num_channel==1:\n",
    "\tif K.image_dim_ordering()=='th':\n",
    "\t\timg_data= np.expand_dims(img_data, axis=1) \n",
    "\t\tprint (img_data.shape)\n",
    "\telse:\n",
    "\t\timg_data= np.expand_dims(img_data, axis=4) \n",
    "\t\tprint (img_data.shape)\n",
    "\t\t\n",
    "else:\n",
    "\tif K.image_dim_ordering()=='th':\n",
    "\t\timg_data=np.rollaxis(img_data,3,1)\n",
    "\t\tprint (img_data.shape)"
   ]
  },
  {
   "cell_type": "code",
   "execution_count": null,
   "metadata": {},
   "outputs": [],
   "source": [
    "USE_SKLEARN_PREPROCESSING=False\n",
    "\n",
    "if USE_SKLEARN_PREPROCESSING:\n",
    "\t# using sklearn for preprocessing\n",
    "\tfrom sklearn import preprocessing\n",
    "\t\n",
    "\tdef image_to_feature_vector(image, size=(128, 128)):\n",
    "\t\t# resize the image to a fixed size, then flatten the image into\n",
    "\t\t# a list of raw pixel intensities\n",
    "\t\treturn cv2.resize(image, size).flatten()\n",
    "\t\n",
    "\timg_data_list=[]\n",
    "\tfor dataset in data_dir_list:\n",
    "\t\timg_list=os.listdir(data_path+'/'+ dataset)\n",
    "\t\tprint ('Loaded the images of dataset-'+'{}\\n'.format(dataset))\n",
    "\t\tfor img in img_list:\n",
    "\t\t\tinput_img=cv2.imread(data_path + '/'+ dataset + '/'+ img )\n",
    "\t\t\tinput_img=cv2.cvtColor(input_img, cv2.COLOR_BGR2GRAY)\n",
    "\t\t\tinput_img_flatten=image_to_feature_vector(input_img,(128,128))\n",
    "\t\t\timg_data_list.append(input_img_flatten)\n",
    "\t\n",
    "\timg_data = np.array(img_data_list)\n",
    "\timg_data = img_data.astype('float32')\n",
    "\tprint (img_data.shape)\n",
    "\timg_data_scaled = preprocessing.scale(img_data)\n",
    "\tprint (img_data_scaled.shape)\n",
    "\t\n",
    "\tprint (np.mean(img_data_scaled))\n",
    "\tprint (np.std(img_data_scaled))\n",
    "\t\n",
    "\tprint (img_data_scaled.mean(axis=0))\n",
    "\tprint (img_data_scaled.std(axis=0))\n",
    "\t\n",
    "\tif K.image_dim_ordering()=='th':\n",
    "\t\timg_data_scaled=img_data_scaled.reshape(img_data.shape[0],num_channel,img_rows,img_cols)\n",
    "\t\tprint (img_data_scaled.shape)\n",
    "\t\t\n",
    "\telse:\n",
    "\t\timg_data_scaled=img_data_scaled.reshape(img_data.shape[0],img_rows,img_cols,num_channel)\n",
    "\t\tprint (img_data_scaled.shape)\n",
    "\t\n",
    "\t\n",
    "\tif K.image_dim_ordering()=='th':\n",
    "\t\timg_data_scaled=img_data_scaled.reshape(img_data.shape[0],num_channel,img_rows,img_cols)\n",
    "\t\tprint (img_data_scaled.shape)\n",
    "\t\t\n",
    "\telse:\n",
    "\t\timg_data_scaled=img_data_scaled.reshape(img_data.shape[0],img_rows,img_cols,num_channel)\n",
    "\t\tprint (img_data_scaled.shape)\n",
    "\n",
    "if USE_SKLEARN_PREPROCESSING:\n",
    "\timg_data=img_data_scaled\n",
    "\n",
    "#%%\n"
   ]
  },
  {
   "cell_type": "code",
   "execution_count": null,
   "metadata": {},
   "outputs": [],
   "source": [
    "print(img_data)"
   ]
  },
  {
   "cell_type": "code",
   "execution_count": null,
   "metadata": {},
   "outputs": [],
   "source": [
    "input_shape=img_data[0].shape\n",
    "print(input_shape)"
   ]
  },
  {
   "cell_type": "code",
   "execution_count": null,
   "metadata": {},
   "outputs": [],
   "source": [
    "from keras.layers.normalization import BatchNormalization\n",
    "model = Sequential()\n",
    "# Define the model structure\n",
    "model = Sequential()\n",
    "model.add(Convolution2D(32, 3,3,border_mode='same',input_shape=(128,128,1)))\n",
    "model.add(Activation('relu'))\n",
    "model.add(Convolution2D(32, 3, 3))\n",
    "model.add(Activation('relu'))\n",
    "model.add(MaxPooling2D(pool_size=(2, 2)))\n",
    "model.add(Dropout(0.5))\n",
    "\n",
    "model.add(Convolution2D(64, 3, 3))\n",
    "model.add(Activation('relu'))\n",
    "#model.add(Convolution2D(64, 3, 3))\n",
    "#model.add(Activation('relu'))\n",
    "model.add(MaxPooling2D(pool_size=(2, 2)))\n",
    "model.add(Dropout(0.5))\n",
    "\n",
    "model.add(Flatten())\n",
    "model.add(Dense(64))\n",
    "model.add(Activation('relu'))\n",
    "model.add(Dropout(0.5))\n",
    "model.add(Dense(14))\n",
    "model.add(Activation('softmax'))"
   ]
  },
  {
   "cell_type": "code",
   "execution_count": null,
   "metadata": {},
   "outputs": [],
   "source": [
    "model.compile(loss='categorical_crossentropy', optimizer='rmsprop',metrics=[\"accuracy\"])"
   ]
  },
  {
   "cell_type": "code",
   "execution_count": null,
   "metadata": {},
   "outputs": [],
   "source": [
    "#one-hot encode target column\n",
    "#from keras.utils import np_utils\n",
    "#y_train = np_utils.to_categorical(y_train)\n",
    "#y_test = np_utils.to_categorical(y_test)\n",
    "#print(y_test)\n",
    "model.summary()\n",
    "model.get_config()\n",
    "model.layers[0].get_config()\n",
    "model.layers[0].input_shape\t\t\t\n",
    "model.layers[0].output_shape\t\t\t\n",
    "model.layers[0].get_weights()\n",
    "np.shape(model.layers[0].get_weights()[0])\n",
    "model.layers[0].trainable"
   ]
  },
  {
   "cell_type": "code",
   "execution_count": null,
   "metadata": {},
   "outputs": [],
   "source": [
    "hist = model.fit(X_train, y_train, batch_size=16, nb_epoch=num_epoch, verbose=1, validation_data=(X_test, y_test))"
   ]
  },
  {
   "cell_type": "code",
   "execution_count": null,
   "metadata": {},
   "outputs": [],
   "source": [
    "model.compile(loss='categorical_crossentropy', optimizer='rmsprop',metrics=[\"accuracy\"])"
   ]
  },
  {
   "cell_type": "code",
   "execution_count": null,
   "metadata": {},
   "outputs": [],
   "source": [
    "model.summary()"
   ]
  },
  {
   "cell_type": "code",
   "execution_count": null,
   "metadata": {},
   "outputs": [],
   "source": [
    "model.compile(optimizer='Adam',\n",
    "              loss='sparse_categorical_crossentropy', \n",
    "              metrics = ['accuracy'])"
   ]
  },
  {
   "cell_type": "code",
   "execution_count": null,
   "metadata": {},
   "outputs": [],
   "source": [
    "model_1 = model.fit(X_train, y_train,\n",
    "                    batch_size=300,\n",
    "                    epochs = 20,\n",
    "                    verbose=1,\n",
    "                    validation_data=(X_test, y_test))"
   ]
  },
  {
   "cell_type": "code",
   "execution_count": null,
   "metadata": {},
   "outputs": [],
   "source": [
    "# visualizing losses and accuracy\n",
    "train_loss=hist.history['loss']\n",
    "val_loss=hist.history['val_loss']\n",
    "train_acc=hist.history['acc']\n",
    "val_acc=hist.history['val_acc']\n",
    "xc=range(num_epoch)\n",
    "print(xc)\n"
   ]
  },
  {
   "cell_type": "code",
   "execution_count": null,
   "metadata": {},
   "outputs": [],
   "source": [
    "score = model.evaluate(X_test, y_test, verbose=0)\n",
    "print('Test Loss:', score[0])\n",
    "print('Test accuracy:', score[1])"
   ]
  },
  {
   "cell_type": "code",
   "execution_count": null,
   "metadata": {},
   "outputs": [],
   "source": [
    "test_image = X_test[0:1]"
   ]
  },
  {
   "cell_type": "code",
   "execution_count": null,
   "metadata": {},
   "outputs": [],
   "source": [
    "print(model.predict(test_image))\n",
    "print(model.predict_classes(test_image))\n",
    "print(y_test[0:1])"
   ]
  },
  {
   "cell_type": "code",
   "execution_count": null,
   "metadata": {},
   "outputs": [],
   "source": [
    "import matplotlib.pyplot as plt\n",
    "\n",
    "sample = []\n",
    "test_image=cv2.imread(data_path + '/'+ '59263.jpg' )\n",
    "test_image=cv2.cvtColor(test_image, cv2.COLOR_BGR2GRAY)\n",
    "test_image = image.load_img(data_path + '/'+ '11244.jpg', target_size=(128,128,1), grayscale=True)\n",
    "\n",
    "plt.imshow(test_image)  \n",
    "test_image = image.img_to_array(test_image)\n",
    "test_image = test_image/255\n",
    "sample.append(img)\n",
    "Z = np.array(sample)\n",
    "print (Z.shape)"
   ]
  },
  {
   "cell_type": "code",
   "execution_count": null,
   "metadata": {},
   "outputs": [],
   "source": [
    "# Predicting the test image\n",
    "print((model.predict(Z)))\n",
    "print(model.predict_classes(Z))"
   ]
  },
  {
   "cell_type": "code",
   "execution_count": null,
   "metadata": {},
   "outputs": [],
   "source": []
  },
  {
   "cell_type": "code",
   "execution_count": null,
   "metadata": {},
   "outputs": [],
   "source": []
  }
 ],
 "metadata": {
  "kernelspec": {
   "display_name": "Python 3",
   "language": "python",
   "name": "python3"
  },
  "language_info": {
   "codemirror_mode": {
    "name": "ipython",
    "version": 3
   },
   "file_extension": ".py",
   "mimetype": "text/x-python",
   "name": "python",
   "nbconvert_exporter": "python",
   "pygments_lexer": "ipython3",
   "version": "3.7.1"
  }
 },
 "nbformat": 4,
 "nbformat_minor": 2
}
