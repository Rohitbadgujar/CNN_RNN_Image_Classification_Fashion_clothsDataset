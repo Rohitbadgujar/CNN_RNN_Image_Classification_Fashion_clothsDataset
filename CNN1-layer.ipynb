{
 "cells": [
  {
   "cell_type": "code",
   "execution_count": 2,
   "metadata": {},
   "outputs": [
    {
     "name": "stderr",
     "output_type": "stream",
     "text": [
      "Using TensorFlow backend.\n"
     ]
    }
   ],
   "source": [
    "import os,cv2\n",
    "import numpy as np\n",
    "import matplotlib.pyplot as plt\n",
    "from keras.preprocessing import image\n",
    "from sklearn.utils import shuffle\n",
    "from sklearn.model_selection import train_test_split\n",
    "from keras import backend as K\n",
    "#K.set_image_dim_ordering('th')\n",
    "\n",
    "from keras.utils import np_utils\n",
    "from keras.models import Sequential\n",
    "from keras.layers.core import Dense, Dropout, Activation, Flatten\n",
    "from keras.layers.convolutional import Convolution2D, MaxPooling2D\n",
    "from keras.optimizers import SGD,RMSprop,adam\n",
    "import pandas as pd\n",
    "import csv\n",
    "from os.path import splitext\n",
    "from sklearn.preprocessing import LabelEncoder\n",
    "from PIL import Image\n",
    "\n",
    "# Saving and loading model and weights\n",
    "from keras.models import model_from_json\n",
    "from keras.models import load_model"
   ]
  },
  {
   "cell_type": "markdown",
   "metadata": {},
   "source": [
    "# CNN with 1 Convolutional Layer\n"
   ]
  },
  {
   "cell_type": "raw",
   "metadata": {},
   "source": [
    "# This CNN takes as input tensors of shape (image_height, image_width, image_channels). In this case, I configure the CNN to process inputs of size (28, 28, 1), which is the format of the FashionMNIST images. I do this by passing the argument input_shape=(28, 28, 1) to the first layer.\n",
    "\n",
    "The 1st layer is a Conv2D layer for the convolution operation that extracts features from the input images by sliding a convolution filter over the input to produce a feature map. Here I choose feature map with size 3 x 3.\n",
    "The 2nd layer is a MaxPooling2D layer for the max-pooling operation that reduces the dimensionality of each feature, which helps shorten training time and reduce number of parameters. Here I choose the pooling window with size 2 x 2.\n",
    "To combat overfititng, I add a Dropout layer as the 3rd layer, a powerful regularization technique. Dropout is the method used to reduce overfitting. It forces the model to learn multiple independent representations of the same data by randomly disabling neurons in the learning phase. In this model, dropout will randomnly disable 20% of the neurons.\n",
    "The next step is to feed the last output tensor into a stack of Dense layers, otherwise known as fully-connected layers. These densely connected classifiers process vectors, which are 1D, whereas the current output is a 3D tensor. Thus, I need to flatten the 3D outputs to 1D, and then add 2 Dense layers on top.\n",
    "I do a 10-way classification (as there are 10 classes of fashion images), using a final layer with 10 outputs and a softmax activation. Softmax activation enables me to calculate the output based on the probabilities. Each class is assigned a probability and the class with the maximum probability is the model’s output for the input."
   ]
  },
  {
   "cell_type": "code",
   "execution_count": 3,
   "metadata": {},
   "outputs": [],
   "source": [
    "# Load training and test data into dataframes\n",
    "PATH = os.getcwd()\n",
    "from keras.utils import to_categorical\n",
    "df = pd.read_csv(PATH + '\\\\CNN-image-dataset.csv');\n",
    "\n",
    "df = df.iloc[np.random.permutation(len(df))]\n",
    "data_train = df[0:5000]\n",
    "data_test = df[5001:]\n",
    "\n",
    "\n",
    "# X forms the training images, and y forms the training labels\n",
    "X = np.array(data_train.iloc[:, 3:])\n",
    "y = to_categorical(np.array(data_train.iloc[:, 1]))\n",
    "\n",
    "# Here I split original training data to sub-training (80%) and validation data (20%)\n",
    "X_train, X_val, y_train, y_val = train_test_split(X, y, test_size=0.2, random_state=13)\n",
    "\n",
    "# X_test forms the test images, and y_test forms the test labels\n",
    "X_test = np.array(data_test.iloc[:, 3:])\n",
    "y_test = to_categorical(np.array(data_test.iloc[:, 1]))"
   ]
  },
  {
   "cell_type": "code",
   "execution_count": 4,
   "metadata": {},
   "outputs": [],
   "source": [
    "# Each image's dimension is 28 x 28\n",
    "img_rows, img_cols = 28, 28\n",
    "input_shape = (img_rows, img_cols, 1)\n",
    "\n",
    "# Prepare the training images\n",
    "X_train = X_train.reshape(X_train.shape[0], img_rows, img_cols, 1)\n",
    "X_train = X_train.astype('float32')\n",
    "X_train /= 255\n",
    "\n",
    "# Prepare the test images\n",
    "X_test = X_test.reshape(X_test.shape[0], img_rows, img_cols, 1)\n",
    "X_test = X_test.astype('float32')\n",
    "X_test /= 255\n",
    "\n",
    "# Prepare the validation images\n",
    "X_val = X_val.reshape(X_val.shape[0], img_rows, img_cols, 1)\n",
    "X_val = X_val.astype('float32')\n",
    "X_val /= 255"
   ]
  },
  {
   "cell_type": "code",
   "execution_count": 5,
   "metadata": {},
   "outputs": [
    {
     "name": "stdout",
     "output_type": "stream",
     "text": [
      "(4000, 28, 28, 1)\n",
      "(5000, 28, 28, 1)\n",
      "(1000, 28, 28, 1)\n",
      "(1000, 3)\n"
     ]
    }
   ],
   "source": [
    "print(X_train.shape)\n",
    "print(X_test.shape)\n",
    "print(X_val.shape)\n",
    "print(y_val.shape)"
   ]
  },
  {
   "cell_type": "code",
   "execution_count": 16,
   "metadata": {},
   "outputs": [],
   "source": [
    "# Import Keras libraries\n",
    "import keras\n",
    "from keras.models import Sequential\n",
    "from keras.layers import Dense, Dropout, Flatten\n",
    "from keras.layers import Conv2D, MaxPooling2D\n",
    "\n",
    "cnn1 = Sequential()\n",
    "cnn1.add(Conv2D(32, kernel_size=(3, 3), activation='relu', input_shape=input_shape))\n",
    "cnn1.add(MaxPooling2D(pool_size=(2, 2)))\n",
    "cnn1.add(Dropout(0.7))\n",
    "\n",
    "cnn1.add(Flatten())\n",
    "\n",
    "cnn1.add(Dense(128, activation='relu'))\n",
    "cnn1.add(Dense(3, activation='softmax'))"
   ]
  },
  {
   "cell_type": "code",
   "execution_count": 17,
   "metadata": {},
   "outputs": [],
   "source": [
    "cnn1.compile(loss=keras.losses.categorical_crossentropy,\n",
    "              optimizer=keras.optimizers.SGD(lr=0.01, nesterov=True),\n",
    "              metrics=['accuracy'])"
   ]
  },
  {
   "cell_type": "code",
   "execution_count": 18,
   "metadata": {
    "scrolled": true
   },
   "outputs": [
    {
     "name": "stderr",
     "output_type": "stream",
     "text": [
      "C:\\Users\\rohit\\Miniconda3\\lib\\site-packages\\ipykernel_launcher.py:5: UserWarning: The `nb_epoch` argument in `fit` has been renamed `epochs`.\n",
      "  \"\"\"\n"
     ]
    },
    {
     "name": "stdout",
     "output_type": "stream",
     "text": [
      "Train on 4000 samples, validate on 1000 samples\n",
      "Epoch 1/50\n",
      "4000/4000 [==============================] - 4s 896us/step - loss: 1.0458 - acc: 0.7480 - val_loss: 0.9805 - val_acc: 0.7400\n",
      "Epoch 2/50\n",
      "4000/4000 [==============================] - 2s 581us/step - loss: 0.9028 - acc: 0.7655 - val_loss: 0.8221 - val_acc: 0.7400\n",
      "Epoch 3/50\n",
      "4000/4000 [==============================] - 2s 591us/step - loss: 0.7524 - acc: 0.7655 - val_loss: 0.7364 - val_acc: 0.7400\n",
      "Epoch 4/50\n",
      "4000/4000 [==============================] - 2s 584us/step - loss: 0.6949 - acc: 0.7655 - val_loss: 0.7256 - val_acc: 0.7400\n",
      "Epoch 5/50\n",
      "4000/4000 [==============================] - 2s 579us/step - loss: 0.6836 - acc: 0.7655 - val_loss: 0.7239 - val_acc: 0.7400\n",
      "Epoch 6/50\n",
      "4000/4000 [==============================] - 2s 587us/step - loss: 0.6793 - acc: 0.7655 - val_loss: 0.7222 - val_acc: 0.7400\n",
      "Epoch 7/50\n",
      "4000/4000 [==============================] - 2s 594us/step - loss: 0.6786 - acc: 0.7655 - val_loss: 0.7206 - val_acc: 0.7400\n",
      "Epoch 8/50\n",
      "4000/4000 [==============================] - 3s 640us/step - loss: 0.6778 - acc: 0.7655 - val_loss: 0.7205 - val_acc: 0.7400\n",
      "Epoch 9/50\n",
      "4000/4000 [==============================] - 2s 595us/step - loss: 0.6788 - acc: 0.7655 - val_loss: 0.7194 - val_acc: 0.7400\n",
      "Epoch 10/50\n",
      "4000/4000 [==============================] - 3s 666us/step - loss: 0.6773 - acc: 0.7655 - val_loss: 0.7206 - val_acc: 0.7400\n",
      "Epoch 11/50\n",
      "4000/4000 [==============================] - 3s 673us/step - loss: 0.6775 - acc: 0.7655 - val_loss: 0.7200 - val_acc: 0.7400\n",
      "Epoch 12/50\n",
      "4000/4000 [==============================] - 3s 657us/step - loss: 0.6761 - acc: 0.7655 - val_loss: 0.7198 - val_acc: 0.7400\n",
      "Epoch 13/50\n",
      "4000/4000 [==============================] - 3s 664us/step - loss: 0.6784 - acc: 0.7655 - val_loss: 0.7195 - val_acc: 0.7400\n",
      "Epoch 14/50\n",
      "4000/4000 [==============================] - 2s 624us/step - loss: 0.6771 - acc: 0.7655 - val_loss: 0.7203 - val_acc: 0.7400\n",
      "Epoch 15/50\n",
      "4000/4000 [==============================] - 2s 584us/step - loss: 0.6755 - acc: 0.7655 - val_loss: 0.7201 - val_acc: 0.7400\n",
      "Epoch 16/50\n",
      "4000/4000 [==============================] - 2s 600us/step - loss: 0.6776 - acc: 0.7655 - val_loss: 0.7193 - val_acc: 0.7400\n",
      "Epoch 17/50\n",
      "4000/4000 [==============================] - 2s 580us/step - loss: 0.6757 - acc: 0.7655 - val_loss: 0.7204 - val_acc: 0.7400\n",
      "Epoch 18/50\n",
      "4000/4000 [==============================] - 2s 578us/step - loss: 0.6763 - acc: 0.7655 - val_loss: 0.7209 - val_acc: 0.7400\n",
      "Epoch 19/50\n",
      "4000/4000 [==============================] - 2s 599us/step - loss: 0.6790 - acc: 0.7655 - val_loss: 0.7204 - val_acc: 0.7400\n",
      "Epoch 20/50\n",
      "4000/4000 [==============================] - 3s 629us/step - loss: 0.6773 - acc: 0.7655 - val_loss: 0.7199 - val_acc: 0.7400\n",
      "Epoch 21/50\n",
      "4000/4000 [==============================] - 3s 644us/step - loss: 0.6768 - acc: 0.7655 - val_loss: 0.7203 - val_acc: 0.7400\n",
      "Epoch 22/50\n",
      "4000/4000 [==============================] - 3s 672us/step - loss: 0.6793 - acc: 0.7655 - val_loss: 0.7199 - val_acc: 0.7400\n",
      "Epoch 23/50\n",
      "4000/4000 [==============================] - 3s 745us/step - loss: 0.6752 - acc: 0.7655 - val_loss: 0.7204 - val_acc: 0.7400\n",
      "Epoch 24/50\n",
      "4000/4000 [==============================] - 2s 623us/step - loss: 0.6770 - acc: 0.7655 - val_loss: 0.7197 - val_acc: 0.7400\n",
      "Epoch 25/50\n",
      "4000/4000 [==============================] - 2s 610us/step - loss: 0.6770 - acc: 0.7655 - val_loss: 0.7194 - val_acc: 0.7400\n",
      "Epoch 26/50\n",
      "4000/4000 [==============================] - 2s 621us/step - loss: 0.6749 - acc: 0.7655 - val_loss: 0.7204 - val_acc: 0.7400\n",
      "Epoch 27/50\n",
      "4000/4000 [==============================] - 2s 599us/step - loss: 0.6779 - acc: 0.7655 - val_loss: 0.7201 - val_acc: 0.7400\n",
      "Epoch 28/50\n",
      "4000/4000 [==============================] - 2s 578us/step - loss: 0.6783 - acc: 0.7655 - val_loss: 0.7199 - val_acc: 0.7400\n",
      "Epoch 29/50\n",
      "4000/4000 [==============================] - 2s 609us/step - loss: 0.6782 - acc: 0.7655 - val_loss: 0.7205 - val_acc: 0.7400\n",
      "Epoch 30/50\n",
      "4000/4000 [==============================] - 2s 617us/step - loss: 0.6764 - acc: 0.7655 - val_loss: 0.7203 - val_acc: 0.7400\n",
      "Epoch 31/50\n",
      "4000/4000 [==============================] - 2s 589us/step - loss: 0.6767 - acc: 0.7655 - val_loss: 0.7204 - val_acc: 0.7400\n",
      "Epoch 32/50\n",
      "4000/4000 [==============================] - 2s 609us/step - loss: 0.6766 - acc: 0.7655 - val_loss: 0.7206 - val_acc: 0.7400\n",
      "Epoch 33/50\n",
      "4000/4000 [==============================] - 2s 583us/step - loss: 0.6752 - acc: 0.7655 - val_loss: 0.7207 - val_acc: 0.7400\n",
      "Epoch 34/50\n",
      "4000/4000 [==============================] - 3s 693us/step - loss: 0.6772 - acc: 0.7655 - val_loss: 0.7201 - val_acc: 0.7400\n",
      "Epoch 35/50\n",
      "4000/4000 [==============================] - 3s 649us/step - loss: 0.6772 - acc: 0.7655 - val_loss: 0.7205 - val_acc: 0.7400\n",
      "Epoch 36/50\n",
      "4000/4000 [==============================] - 3s 628us/step - loss: 0.6766 - acc: 0.7655 - val_loss: 0.7198 - val_acc: 0.7400\n",
      "Epoch 37/50\n",
      "4000/4000 [==============================] - 2s 589us/step - loss: 0.6780 - acc: 0.7655 - val_loss: 0.7191 - val_acc: 0.7400\n",
      "Epoch 38/50\n",
      "4000/4000 [==============================] - 2s 580us/step - loss: 0.6774 - acc: 0.7655 - val_loss: 0.7199 - val_acc: 0.7400\n",
      "Epoch 39/50\n",
      "4000/4000 [==============================] - ETA: 0s - loss: 0.6783 - acc: 0.764 - 2s 585us/step - loss: 0.6755 - acc: 0.7655 - val_loss: 0.7202 - val_acc: 0.7400\n",
      "Epoch 40/50\n",
      "4000/4000 [==============================] - 2s 581us/step - loss: 0.6764 - acc: 0.7655 - val_loss: 0.7195 - val_acc: 0.7400\n",
      "Epoch 41/50\n",
      "4000/4000 [==============================] - 2s 586us/step - loss: 0.6775 - acc: 0.7655 - val_loss: 0.7196 - val_acc: 0.7400\n",
      "Epoch 42/50\n",
      "4000/4000 [==============================] - 3s 641us/step - loss: 0.6774 - acc: 0.7655 - val_loss: 0.7191 - val_acc: 0.7400\n",
      "Epoch 43/50\n",
      "4000/4000 [==============================] - 3s 637us/step - loss: 0.6752 - acc: 0.7655 - val_loss: 0.7193 - val_acc: 0.7400\n",
      "Epoch 44/50\n",
      "4000/4000 [==============================] - 2s 617us/step - loss: 0.6763 - acc: 0.7655 - val_loss: 0.7199 - val_acc: 0.7400\n",
      "Epoch 45/50\n",
      "4000/4000 [==============================] - 2s 591us/step - loss: 0.6748 - acc: 0.7655 - val_loss: 0.7200 - val_acc: 0.7400\n",
      "Epoch 46/50\n",
      "4000/4000 [==============================] - 2s 587us/step - loss: 0.6755 - acc: 0.7655 - val_loss: 0.7197 - val_acc: 0.7400\n",
      "Epoch 47/50\n",
      "4000/4000 [==============================] - 3s 695us/step - loss: 0.6740 - acc: 0.7655 - val_loss: 0.7200 - val_acc: 0.7400\n",
      "Epoch 48/50\n",
      "4000/4000 [==============================] - 2s 613us/step - loss: 0.6746 - acc: 0.7655 - val_loss: 0.7195 - val_acc: 0.7400\n",
      "Epoch 49/50\n",
      "4000/4000 [==============================] - 3s 646us/step - loss: 0.6747 - acc: 0.7655 - val_loss: 0.7200 - val_acc: 0.7400\n",
      "Epoch 50/50\n",
      "4000/4000 [==============================] - 2s 607us/step - loss: 0.6760 - acc: 0.7655 - val_loss: 0.7198 - val_acc: 0.7400\n",
      "--- 125.35628080368042 seconds ---\n"
     ]
    }
   ],
   "source": [
    "import time\n",
    "start_time = time.time()\n",
    "history1 = cnn1.fit(X_train, y_train, batch_size=256 , \n",
    "                    nb_epoch=50, verbose=1, \n",
    "                    validation_data=(X_val, y_val))\n",
    "print(\"--- %s seconds ---\" % (time.time() - start_time))\n",
    "cnn4_time = time.time() - start_time"
   ]
  },
  {
   "cell_type": "code",
   "execution_count": 19,
   "metadata": {},
   "outputs": [
    {
     "name": "stdout",
     "output_type": "stream",
     "text": [
      "Test loss: 0.6640840503692627\n",
      "Test accuracy: 0.769\n"
     ]
    }
   ],
   "source": [
    "score1 = cnn1.evaluate(X_test, y_test, verbose=0)\n",
    "print('Test loss:', score1[0])\n",
    "print('Test accuracy:', score1[1])"
   ]
  },
  {
   "cell_type": "code",
   "execution_count": 20,
   "metadata": {},
   "outputs": [
    {
     "name": "stdout",
     "output_type": "stream",
     "text": [
      "50\n"
     ]
    },
    {
     "data": {
      "text/plain": [
       "<matplotlib.legend.Legend at 0x155ad76ed30>"
      ]
     },
     "execution_count": 20,
     "metadata": {},
     "output_type": "execute_result"
    },
    {
     "data": {
      "image/png": "[encoded data removed]",
      "text/plain": [
       "<Figure size 504x360 with 1 Axes>"
      ]
     },
     "metadata": {
      "needs_background": "light"
     },
     "output_type": "display_data"
    },
    {
     "data": {
      "image/png": "[encoded data removed]",
      "text/plain": [
       "<Figure size 504x360 with 1 Axes>"
      ]
     },
     "metadata": {
      "needs_background": "light"
     },
     "output_type": "display_data"
    }
   ],
   "source": [
    "# visualizing losses and accuracy\n",
    "train_loss=history1.history['loss']\n",
    "val_loss=history1.history['val_loss']\n",
    "train_acc=history1.history['acc']\n",
    "val_acc=history1.history['val_acc']\n",
    "xc=range(50)\n",
    "print(len(train_loss))\n",
    "plt.figure(1,figsize=(7,5))\n",
    "plt.plot(xc,train_loss)\n",
    "plt.plot(xc,val_loss)\n",
    "plt.xlabel('num of Epochs')\n",
    "plt.ylabel('loss')\n",
    "plt.title('train_loss vs val_loss')\n",
    "plt.grid(True)\n",
    "plt.legend(['train','val'])\n",
    "#print plt.style.available # use bmh, classic,ggplot for big pictures\n",
    "#plt.style.use(['classic'])\n",
    "\n",
    "plt.figure(2,figsize=(7,5))\n",
    "plt.plot(xc,train_acc)\n",
    "plt.plot(xc,val_acc)\n",
    "plt.xlabel('num of Epochs')\n",
    "plt.ylabel('accuracy')\n",
    "plt.title('train_acc vs val_acc')\n",
    "plt.grid(True)\n",
    "plt.legend(['train','val'],loc=4)"
   ]
  },
  {
   "cell_type": "code",
   "execution_count": 10,
   "metadata": {},
   "outputs": [],
   "source": [
    "# get the predictions for the test data\n",
    "predicted_classes = cnn1.predict_classes(X_test)\n",
    "\n",
    "# get the indices to be plotted\n",
    "y_true = data_test.iloc[:, 1].values\n",
    "correct = np.nonzero(predicted_classes==y_true)[0]\n",
    "incorrect = np.nonzero(predicted_classes!=y_true)[0]"
   ]
  },
  {
   "cell_type": "code",
   "execution_count": 11,
   "metadata": {},
   "outputs": [
    {
     "name": "stdout",
     "output_type": "stream",
     "text": [
      "              precision    recall  f1-score   support\n",
      "\n",
      "     Class 0       0.97      0.95      0.96       882\n",
      "     Class 1       0.95      1.00      0.97       862\n",
      "     Class 2       0.95      0.89      0.92       307\n",
      "\n",
      "   micro avg       0.96      0.96      0.96      2051\n",
      "   macro avg       0.96      0.94      0.95      2051\n",
      "weighted avg       0.96      0.96      0.96      2051\n",
      "\n"
     ]
    }
   ],
   "source": [
    "from sklearn.metrics import classification_report\n",
    "target_names = [\"Class {}\".format(i) for i in range(3)]\n",
    "print(classification_report(y_true, predicted_classes, target_names=target_names))"
   ]
  },
  {
   "cell_type": "code",
   "execution_count": 12,
   "metadata": {},
   "outputs": [
    {
     "data": {
      "image/png": "[encoded data removed]",
      "text/plain": [
       "<Figure size 432x288 with 9 Axes>"
      ]
     },
     "metadata": {
      "needs_background": "light"
     },
     "output_type": "display_data"
    }
   ],
   "source": [
    "for i, correct in enumerate(correct[:9]):\n",
    "    plt.subplot(3,3,i+1)\n",
    "    plt.imshow(X_test[correct].reshape(28,28), cmap='gray', interpolation='none')\n",
    "    plt.title(\"Predicted {}, Class {}\".format(predicted_classes[correct], y_true[correct]))\n",
    "    plt.tight_layout()"
   ]
  },
  {
   "cell_type": "code",
   "execution_count": 13,
   "metadata": {
    "scrolled": true
   },
   "outputs": [
    {
     "data": {
      "image/png": "[encoded data removed]",
      "text/plain": [
       "<Figure size 432x288 with 9 Axes>"
      ]
     },
     "metadata": {
      "needs_background": "light"
     },
     "output_type": "display_data"
    }
   ],
   "source": [
    "\n",
    "for i, incorrect in enumerate(incorrect[0:9]):\n",
    "    plt.subplot(3,3,i+1)\n",
    "    plt.imshow(X_test[incorrect].reshape(28,28), cmap='gray', interpolation='none')\n",
    "    plt.title(\"Predicted {}, Class {}\".format(predicted_classes[incorrect], y_true[incorrect]))\n",
    "    plt.tight_layout()"
   ]
  },
  {
   "cell_type": "code",
   "execution_count": 14,
   "metadata": {},
   "outputs": [],
   "source": [
    "# get the predictions for the test data\n",
    "predicted_classes = cnn1.predict_classes(X_test)\n",
    "\n",
    "# get the indices to be plotted\n",
    "y_true = data_test.iloc[:, 1].values\n",
    "correct = np.nonzero(predicted_classes==y_true)[0]\n",
    "incorrect = np.nonzero(predicted_classes!=y_true)[0]"
   ]
  },
  {
   "cell_type": "code",
   "execution_count": 15,
   "metadata": {},
   "outputs": [
    {
     "data": {
      "text/plain": [
       "1964"
      ]
     },
     "execution_count": 15,
     "metadata": {},
     "output_type": "execute_result"
    }
   ],
   "source": [
    "len(correct)"
   ]
  },
  {
   "cell_type": "code",
   "execution_count": 16,
   "metadata": {},
   "outputs": [
    {
     "data": {
      "text/plain": [
       "87"
      ]
     },
     "execution_count": 16,
     "metadata": {},
     "output_type": "execute_result"
    }
   ],
   "source": [
    "len(incorrect)"
   ]
  },
  {
   "cell_type": "code",
   "execution_count": 17,
   "metadata": {},
   "outputs": [
    {
     "name": "stdout",
     "output_type": "stream",
     "text": [
      "2051\n",
      "2051\n"
     ]
    },
    {
     "data": {
      "image/png": "[encoded data removed]",
      "text/plain": [
       "<Figure size 576x576 with 2 Axes>"
      ]
     },
     "metadata": {
      "needs_background": "light"
     },
     "output_type": "display_data"
    }
   ],
   "source": [
    "print(len(y_test))\n",
    "print(len(predicted_classes))\n",
    "classes = {0: 'Shirts', \n",
    "           1: 'Shoes', \n",
    "           2: 'Trouser'}\n",
    "\n",
    "class_names = ['Shirts','Shoes','Trouser']\n",
    "import itertools\n",
    "from sklearn.metrics import confusion_matrix, classification_report\n",
    "def plot_confusion_matrix(cm, classes,\n",
    "                          title='Confusion matrix',\n",
    "                          cmap=plt.cm.Blues):\n",
    "    plt.figure(figsize = (8,8))\n",
    "    plt.imshow(cm, interpolation='nearest', cmap=cmap)\n",
    "    plt.title(title)\n",
    "    plt.colorbar()\n",
    "    tick_marks = np.arange(len(classes))\n",
    "    plt.xticks(tick_marks, classes, rotation=45)\n",
    "    plt.yticks(tick_marks, classes)\n",
    "\n",
    "    fmt = 'd'\n",
    "    thresh = cm.max() / 2.\n",
    "    for i, j in itertools.product(range(cm.shape[0]), range(cm.shape[1])):\n",
    "        plt.text(j, i, format(cm[i, j], fmt),\n",
    "                 horizontalalignment=\"center\",\n",
    "                 color=\"white\" if cm[i, j] > thresh else \"black\")\n",
    "\n",
    "    \n",
    "    plt.tight_layout()\n",
    "    plt.ylabel('True label')\n",
    "    plt.xlabel('Predicted label')\n",
    "    plt.show()\n",
    "    \n",
    "cnf_matrix = confusion_matrix(data_test.iloc[:, 1], predicted_classes)\n",
    "plot_confusion_matrix(cnf_matrix, classes = class_names)"
   ]
  },
  {
   "cell_type": "code",
   "execution_count": 18,
   "metadata": {},
   "outputs": [
    {
     "name": "stdout",
     "output_type": "stream",
     "text": [
      "--- 39.28 is the Prediction Accuracy ---\n"
     ]
    }
   ],
   "source": [
    "pred_accuracy = (len(correct)/5000) * 100\n",
    "\n",
    "print(\"--- %s is the Prediction Accuracy ---\" % (pred_accuracy))"
   ]
  },
  {
   "cell_type": "code",
   "execution_count": 19,
   "metadata": {},
   "outputs": [
    {
     "data": {
      "text/plain": [
       "array([   0,    1,    2, ..., 2047, 2049, 2050], dtype=int64)"
      ]
     },
     "execution_count": 19,
     "metadata": {},
     "output_type": "execute_result"
    }
   ],
   "source": [
    "correct"
   ]
  },
  {
   "cell_type": "code",
   "execution_count": 20,
   "metadata": {},
   "outputs": [
    {
     "data": {
      "text/plain": [
       "39.28"
      ]
     },
     "execution_count": 20,
     "metadata": {},
     "output_type": "execute_result"
    }
   ],
   "source": [
    "pred_accuracy"
   ]
  },
  {
   "cell_type": "code",
   "execution_count": 21,
   "metadata": {},
   "outputs": [
    {
     "data": {
      "text/plain": [
       "27.14238691329956"
      ]
     },
     "execution_count": 21,
     "metadata": {},
     "output_type": "execute_result"
    }
   ],
   "source": [
    "cnn4_time"
   ]
  },
  {
   "cell_type": "code",
   "execution_count": 22,
   "metadata": {},
   "outputs": [
    {
     "name": "stdout",
     "output_type": "stream",
     "text": [
      "Saved model to disk\n"
     ]
    }
   ],
   "source": [
    "# serialize model to JSON\n",
    "model_json = cnn1.to_json()\n",
    "with open(\"cnn1.json\", \"w\") as json_file:\n",
    "    json_file.write(model_json)\n",
    "# serialize weights to HDF5\n",
    "cnn1.save_weights(\"cnn1.h5\")\n",
    "print(\"Saved model to disk\")"
   ]
  },
  {
   "cell_type": "code",
   "execution_count": null,
   "metadata": {},
   "outputs": [],
   "source": []
  }
 ],
 "metadata": {
  "kernelspec": {
   "display_name": "Python 3",
   "language": "python",
   "name": "python3"
  },
  "language_info": {
   "codemirror_mode": {
    "name": "ipython",
    "version": 3
   },
   "file_extension": ".py",
   "mimetype": "text/x-python",
   "name": "python",
   "nbconvert_exporter": "python",
   "pygments_lexer": "ipython3",
   "version": "3.7.1"
  }
 },
 "nbformat": 4,
 "nbformat_minor": 2
}
