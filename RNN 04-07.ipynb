{
 "cells": [
  {
   "cell_type": "code",
   "execution_count": 5,
   "metadata": {},
   "outputs": [
    {
     "name": "stdout",
     "output_type": "stream",
     "text": [
      "C:\\Users\\rohit\\Downloads\\MSc_Project_19\\CNN-image-dataset-all-label.csv\n"
     ]
    }
   ],
   "source": [
    "# -*- coding: utf-8 -*-\n",
    "\n",
    "import os,cv2\n",
    "import numpy as np\n",
    "import matplotlib.pyplot as plt\n",
    "from keras.preprocessing import image\n",
    "from sklearn.utils import shuffle\n",
    "from sklearn.model_selection import train_test_split\n",
    "from keras import backend as K\n",
    "#K.set_image_dim_ordering('th')\n",
    "\n",
    "from keras.utils import np_utils\n",
    "from keras.models import Sequential\n",
    "from keras.layers.core import Dense, Dropout, Activation, Flatten\n",
    "from keras.layers.convolutional import Convolution2D, MaxPooling2D\n",
    "from keras.optimizers import SGD,RMSprop,adam\n",
    "\n",
    "import pandas as pd\n",
    "import csv\n",
    "from os.path import splitext\n",
    "import os.path\n",
    "\n",
    "from keras.models import Sequential\n",
    "from keras.layers import Dense\n",
    "from keras.layers import LSTM\n",
    "from keras.layers.embeddings import Embedding\n",
    "from keras.preprocessing import sequence\n",
    "# fix random seed for reproducibility\n",
    "np.random.seed(7)\n",
    "\n",
    "PATH = os.getcwd()\n",
    "img_rows=128\n",
    "img_cols=128\n",
    "num_channel=1\n",
    "num_epoch=20\n",
    "styleFilePath = os.path.abspath('./CNN-image-dataset-all-label.csv')\n",
    "print(styleFilePath)\n",
    "styledf=pd.read_csv(styleFilePath)\n",
    "\n",
    "styledf = styledf.iloc[np.random.permutation(len(styledf))]"
   ]
  },
  {
   "cell_type": "code",
   "execution_count": 6,
   "metadata": {},
   "outputs": [],
   "source": [
    "top_words = 5000\n",
    "X_train, X_test, y_train, y_test = train_test_split(styledf['productDisplayName'], styledf['LABEL'], test_size=0.2, random_state=2)"
   ]
  },
  {
   "cell_type": "code",
   "execution_count": 7,
   "metadata": {
    "scrolled": true
   },
   "outputs": [
    {
     "name": "stderr",
     "output_type": "stream",
     "text": [
      "[nltk_data] Downloading package stopwords to\n",
      "[nltk_data]     C:\\Users\\rohit\\AppData\\Roaming\\nltk_data...\n",
      "[nltk_data]   Package stopwords is already up-to-date!\n"
     ]
    },
    {
     "data": {
      "text/plain": [
       "0                         highlander men check grey shirt\n",
       "1                          skechers men berra brown shoes\n",
       "2                                   adidas men red tshirt\n",
       "3                  deni yo men washed blue slim fit jeans\n",
       "4                           nike women purple polo tshirt\n",
       "5                      skechers mens lifestyle black shoe\n",
       "6                              id mens graphic black shoe\n",
       "7                        locomotive men washed blue jeans\n",
       "8                   skechers mens sparta black brown shoe\n",
       "9              classic polo men stripes black polo tshirt\n",
       "10                         ganuchi men casual beige shoes\n",
       "11       adidas originals women concord round beige shoes\n",
       "12                               puma men even keel shoes\n",
       "13                     lotto mens calcetto black red shoe\n",
       "14                       levis men work western red shirt\n",
       "15                 united colors benetton men white shirt\n",
       "16                          vans men half cab black shoes\n",
       "17                         levis men printed blue tshirts\n",
       "18                  carlton london men casual beige shoes\n",
       "19                  wills lifestyle men check brown shirt\n",
       "20            wrangler men authentic rope navy blue shirt\n",
       "21                        wrangler men aoston black shirt\n",
       "22                    timberland unise casual brown shoes\n",
       "23              flying machine men casual navy blue shoes\n",
       "24                         locomotive men cael blue jeans\n",
       "25                               woodland men khaki shoes\n",
       "26               mrmen little miss men printed red tshirt\n",
       "27        united colors benetton women solid purple shirt\n",
       "28                            puma mens furore white shoe\n",
       "29      warner bros kids unise tj happy canvas navy bl...\n",
       "                              ...                        \n",
       "3522                  mark taylor men grey printed tshirt\n",
       "3523                          redtape men candy tan shoes\n",
       "3524       united colors benetton men stripes grey tshirt\n",
       "3525             puma men heritage polo ribbon red tshirt\n",
       "3526                         spykar men washed blue jeans\n",
       "3527                redtape men margate black casual shoe\n",
       "3528                      highlander men blue check shirt\n",
       "3529                             woodland men brown shoes\n",
       "3530                    john players men check blue shirt\n",
       "3531                           timberland men black shoes\n",
       "3532                 numero uno men lifestyle black shoes\n",
       "3533             timberland mens desert walnut brown shoe\n",
       "3534                   manchester united men white tshirt\n",
       "3535                   us polo assn men solid blue tshirt\n",
       "3536                    wrangler women dreams blue tshirt\n",
       "3537                         nike men cricket blue jersey\n",
       "3538                         spykar men washed blue jeans\n",
       "3539             manchester united men printed red tshirt\n",
       "3540                     clarks men black leather loafers\n",
       "3541                   numero uno women ny grey blue shoe\n",
       "3542                           timberland men brown shoes\n",
       "3543                   locomotive men printed grey tshirt\n",
       "3544                      locomotive men banks blue jeans\n",
       "3545         mark taylor men blue red striped white shirt\n",
       "3546                           fila men white ample shoes\n",
       "3547                   timberland women casual grey shoes\n",
       "3548                          adidas men navy blue tshirt\n",
       "3549                   mother earth men solid white shirt\n",
       "3550                             woodland men camel shoes\n",
       "3551                united colors benetton men grey shirt\n",
       "Name: productDisplayName, Length: 3552, dtype: object"
      ]
     },
     "execution_count": 7,
     "metadata": {},
     "output_type": "execute_result"
    }
   ],
   "source": [
    "import re\n",
    "import nltk\n",
    "nltk.download('stopwords')\n",
    "from nltk.corpus import stopwords\n",
    "df = styledf.reset_index(drop=True)\n",
    "REPLACE_BY_SPACE_RE = re.compile('[/(){}\\[\\]\\|@,;]')\n",
    "BAD_SYMBOLS_RE = re.compile('[^0-9a-z #+_]')\n",
    "STOPWORDS = set(stopwords.words('english'))\n",
    "\n",
    "def clean_text(text):\n",
    "    \"\"\"\n",
    "        text: a string\n",
    "        \n",
    "        return: modified initial string\n",
    "    \"\"\"\n",
    "    text = text.lower() # lowercase text\n",
    "    text = REPLACE_BY_SPACE_RE.sub(' ', text) # replace REPLACE_BY_SPACE_RE symbols by space in text. \n",
    "    #substitute the matched string in REPLACE_BY_SPACE_RE with space.\n",
    "    text = BAD_SYMBOLS_RE.sub('', text) # remove symbols which are in BAD_SYMBOLS_RE from text.\n",
    "    #substitute the matched string in BAD_SYMBOLS_RE with nothing. \n",
    "    text = text.replace('x', '')\n",
    "#    text = re.sub(r'\\W+', '', text)\n",
    "    text = ' '.join(word for word in text.split() if word not in STOPWORDS) # remove stopwors from text\n",
    "    return text\n",
    "df['productDisplayName'] = df['productDisplayName'].apply(clean_text)\n",
    "df['productDisplayName'] = df['productDisplayName'].str.replace('\\d+', '')\n",
    "df['productDisplayName']"
   ]
  },
  {
   "cell_type": "code",
   "execution_count": 8,
   "metadata": {},
   "outputs": [
    {
     "name": "stdout",
     "output_type": "stream",
     "text": [
      "Found 1192 unique tokens.\n"
     ]
    }
   ],
   "source": [
    "from keras.preprocessing.text import Tokenizer\n",
    "# The maximum number of words to be used. (most frequent)\n",
    "MAX_NB_WORDS = 250\n",
    "# Max number of words in each complaint.\n",
    "MAX_SEQUENCE_LENGTH = 250\n",
    "# This is fixed.\n",
    "EMBEDDING_DIM = 100\n",
    "tokenizer = Tokenizer(num_words=MAX_NB_WORDS, filters='!\"#$%&()*+,-./:;<=>?@[\\]^_`{|}~', lower=True)\n",
    "tokenizer.fit_on_texts(df['productDisplayName'].values)\n",
    "word_index = tokenizer.word_index\n",
    "print('Found %s unique tokens.' % len(word_index))"
   ]
  },
  {
   "cell_type": "code",
   "execution_count": 9,
   "metadata": {},
   "outputs": [
    {
     "name": "stdout",
     "output_type": "stream",
     "text": [
      "Shape of data tensor: (3552, 250)\n"
     ]
    }
   ],
   "source": [
    "from keras.preprocessing.sequence import pad_sequences\n",
    "X = tokenizer.texts_to_sequences(df['productDisplayName'].values)\n",
    "X = pad_sequences(X, maxlen=MAX_SEQUENCE_LENGTH)\n",
    "print('Shape of data tensor:', X.shape)"
   ]
  },
  {
   "cell_type": "markdown",
   "metadata": {},
   "source": [
    "# Converting categorical labels to numbers."
   ]
  },
  {
   "cell_type": "code",
   "execution_count": 10,
   "metadata": {},
   "outputs": [
    {
     "name": "stdout",
     "output_type": "stream",
     "text": [
      "[[1. 0. 0.]\n",
      " [0. 1. 0.]\n",
      " [1. 0. 0.]\n",
      " ...\n",
      " [1. 0. 0.]\n",
      " [0. 1. 0.]\n",
      " [1. 0. 0.]]\n",
      "Shape of label tensor: (3552, 3)\n"
     ]
    }
   ],
   "source": [
    "\n",
    "from keras.utils import to_categorical\n",
    "Y = to_categorical(np.array(df.iloc[:, 1]))\n",
    "print(Y)\n",
    "print('Shape of label tensor:', Y.shape)"
   ]
  },
  {
   "cell_type": "markdown",
   "metadata": {},
   "source": [
    "# Train test split."
   ]
  },
  {
   "cell_type": "code",
   "execution_count": 12,
   "metadata": {},
   "outputs": [
    {
     "name": "stdout",
     "output_type": "stream",
     "text": [
      "(2841, 250) (2841, 3)\n",
      "(711, 250) (711, 3)\n"
     ]
    }
   ],
   "source": [
    "X_train, X_test, Y_train, Y_test = train_test_split(X,Y, test_size = 0.2, random_state = 42)\n",
    "print(X_train.shape,Y_train.shape)\n",
    "print(X_test.shape,Y_test.shape)"
   ]
  },
  {
   "cell_type": "markdown",
   "metadata": {},
   "source": []
  },
  {
   "cell_type": "code",
   "execution_count": 15,
   "metadata": {},
   "outputs": [
    {
     "name": "stdout",
     "output_type": "stream",
     "text": [
      "Train on 2556 samples, validate on 285 samples\n",
      "Epoch 1/5\n",
      "2556/2556 [==============================] - 20s 8ms/step - loss: 0.8618 - acc: 0.7152 - val_loss: 0.5258 - val_acc: 0.8386\n",
      "Epoch 2/5\n",
      "2556/2556 [==============================] - 18s 7ms/step - loss: 0.2768 - acc: 0.9100 - val_loss: 0.1177 - val_acc: 0.9930\n",
      "Epoch 3/5\n",
      "2556/2556 [==============================] - 17s 7ms/step - loss: 0.0518 - acc: 0.9949 - val_loss: 0.0203 - val_acc: 0.9965\n",
      "Epoch 4/5\n",
      "2556/2556 [==============================] - 17s 7ms/step - loss: 0.0154 - acc: 0.9977 - val_loss: 0.0116 - val_acc: 0.9965\n",
      "Epoch 5/5\n",
      "2556/2556 [==============================] - 17s 7ms/step - loss: 0.0091 - acc: 0.9980 - val_loss: 0.0069 - val_acc: 1.0000\n",
      "--- 91.14141035079956 seconds ---\n"
     ]
    }
   ],
   "source": [
    "import time\n",
    "from keras.callbacks import EarlyStopping  \n",
    "from keras.layers.core import Dense, SpatialDropout1D\n",
    "model = Sequential()\n",
    "model.add(Embedding(MAX_NB_WORDS, EMBEDDING_DIM, input_length=X.shape[1]))\n",
    "model.add(SpatialDropout1D(0.2))\n",
    "model.add(LSTM(64, dropout=0.2, recurrent_dropout=0.2))\n",
    "model.add(Dense(3, activation='softmax'))\n",
    "model.compile(loss='categorical_crossentropy', optimizer='adam', metrics=['accuracy'])\n",
    "\n",
    "epochs = 5\n",
    "batch_size = 64\n",
    "start_time = time.time()\n",
    "history = model.fit(X_train, Y_train,\n",
    "                    epochs=epochs, \n",
    "                    batch_size=batch_size,\n",
    "                    validation_split=0.1,\n",
    "                    callbacks=[EarlyStopping(monitor='val_loss', patience=7, min_delta=0.0001)])\n",
    "\n",
    "print(\"--- %s seconds ---\" % (time.time() - start_time))\n",
    "rnn_run_time = time.time() - start_time\n"
   ]
  },
  {
   "cell_type": "raw",
   "metadata": {},
   "source": [
    "The first layer is the embedded layer that uses 100 length vectors to represent each word.\n",
    "SpatialDropout1D performs variational dropout in NLP models.\n",
    "The next layer is the LSTM layer with 100 memory units.\n",
    "The output layer must create 13 output values, one for each class.\n",
    "Activation function is softmax for multi-class classification.\n",
    "Because it is a multi-class classification problem, categorical_crossentropy is used as the loss function."
   ]
  },
  {
   "cell_type": "code",
   "execution_count": 16,
   "metadata": {},
   "outputs": [
    {
     "name": "stdout",
     "output_type": "stream",
     "text": [
      "711/711 [==============================] - 2s 3ms/step\n",
      "Test set\n",
      "  Loss: 0.010\n",
      "  Accuracy: 0.997\n"
     ]
    }
   ],
   "source": [
    "accr = model.evaluate(X_test,Y_test)\n",
    "print('Test set\\n  Loss: {:0.3f}\\n  Accuracy: {:0.3f}'.format(accr[0],accr[1]))"
   ]
  },
  {
   "cell_type": "code",
   "execution_count": 17,
   "metadata": {},
   "outputs": [
    {
     "name": "stdout",
     "output_type": "stream",
     "text": [
      "5\n",
      "711\n"
     ]
    },
    {
     "data": {
      "text/plain": [
       "<Figure size 504x360 with 0 Axes>"
      ]
     },
     "execution_count": 17,
     "metadata": {},
     "output_type": "execute_result"
    },
    {
     "data": {
      "image/png": "[encoded data removed]",
      "text/plain": [
       "<Figure size 504x360 with 1 Axes>"
      ]
     },
     "metadata": {
      "needs_background": "light"
     },
     "output_type": "display_data"
    },
    {
     "data": {
      "image/png": "[encoded data removed]",
      "text/plain": [
       "<Figure size 504x360 with 1 Axes>"
      ]
     },
     "metadata": {
      "needs_background": "light"
     },
     "output_type": "display_data"
    },
    {
     "data": {
      "text/plain": [
       "<Figure size 504x360 with 0 Axes>"
      ]
     },
     "metadata": {},
     "output_type": "display_data"
    }
   ],
   "source": [
    "# visualizing losses and accuracy\n",
    "hist = history\n",
    "train_loss=history.history['loss']\n",
    "val_loss=hist.history['val_loss']\n",
    "train_acc=hist.history['acc']\n",
    "val_acc=hist.history['val_acc']\n",
    "xc=range(epochs)\n",
    "print(len(train_loss))\n",
    "plt.figure(1,figsize=(7,5))\n",
    "plt.plot(xc,train_loss)\n",
    "plt.plot(xc,val_loss)\n",
    "plt.xlabel('num of Epochs')\n",
    "plt.ylabel('loss')\n",
    "plt.title('train_loss vs val_loss')\n",
    "plt.grid(True)\n",
    "plt.legend(['train','val'])\n",
    "#print plt.style.available # use bmh, classic,ggplot for big pictures\n",
    "#plt.style.use(['classic'])\n",
    "\n",
    "plt.figure(2,figsize=(7,5))\n",
    "plt.plot(xc,train_acc)\n",
    "plt.plot(xc,val_acc)\n",
    "plt.xlabel('num of Epochs')\n",
    "plt.ylabel('accuracy')\n",
    "plt.title('train_acc vs val_acc')\n",
    "plt.grid(True)\n",
    "plt.legend(['train','val'],loc=4)\n",
    "#print plt.style.available # use bmh, classic,ggplot for big pictures\n",
    "#plt.style.use(['classic']\n",
    "\n",
    "predictions = model.predict(X_test)\n",
    "print(len(predictions))\n",
    "#print(y_test.shape)\n",
    "#print(predictions[:,0].shape)\n",
    "#print(predictions[:,0])\n",
    "plt.figure(3,figsize=(7,5))\n",
    "#plt.scatter(y_test,predictions[:,0])"
   ]
  },
  {
   "cell_type": "code",
   "execution_count": 27,
   "metadata": {},
   "outputs": [
    {
     "data": {
      "text/plain": [
       "array([[1., 0., 0.],\n",
       "       [1., 0., 0.],\n",
       "       [1., 0., 0.],\n",
       "       ...,\n",
       "       [0., 1., 0.],\n",
       "       [1., 0., 0.],\n",
       "       [1., 0., 0.]], dtype=float32)"
      ]
     },
     "execution_count": 27,
     "metadata": {},
     "output_type": "execute_result"
    }
   ],
   "source": [
    "Y_test"
   ]
  },
  {
   "cell_type": "code",
   "execution_count": null,
   "metadata": {},
   "outputs": [],
   "source": []
  },
  {
   "cell_type": "markdown",
   "metadata": {},
   "source": [
    "## len(model.predict_proba(X_test))"
   ]
  },
  {
   "cell_type": "code",
   "execution_count": 28,
   "metadata": {},
   "outputs": [
    {
     "name": "stdout",
     "output_type": "stream",
     "text": [
      "[[  0   0   0 ...  67 114   2]\n",
      " [  0   0   0 ...  30   6  11]\n",
      " [  0   0   0 ...  29   5  15]\n",
      " ...\n",
      " [  0   0   0 ...  32  28   9]\n",
      " [  0   0   0 ...   3  38   2]\n",
      " [  0   0   0 ...  14   6   2]]\n"
     ]
    }
   ],
   "source": [
    "print(X_test)\n",
    "pred_class = model.predict_classes(X_test)\n",
    "pred_label = []\n",
    "for p in pred_class:\n",
    "    if p == 0:\n",
    "        pred_label.append(\"Shirts\")\n",
    "    if p == 1:\n",
    "        pred_label.append(\"Shoes\")\n",
    "    if p == 2:\n",
    "        pred_label.append(\"Trouser\")    "
   ]
  },
  {
   "cell_type": "code",
   "execution_count": 29,
   "metadata": {},
   "outputs": [],
   "source": [
    "#Create data frame to save the results\n",
    "prob = []\n",
    "prob_rfc = pd.DataFrame(prob, columns=['ID','LABEL','CNN','RNN','productDisplayName'])\n",
    "prob_rfc['RNN'] = pred_class\n",
    "prob_rfc['ID'] = df['ID']\n",
    "prob_rfc['LABEL'] = df['LABEL']\n",
    "prob_rfc['productDisplayName'] = df['productDisplayName']\n",
    "\n",
    "#Rearrange the order of column in the result file.\n",
    "prob_rfc = prob_rfc[['ID','LABEL','CNN','RNN','productDisplayName']]\n",
    "\n",
    "#Remove file if already exist \n",
    "if os.path.exists(\"outputCNNRNN.csv\"):\n",
    "    os.remove(\"outputCNNRNN.csv\")\n",
    "#Generate csv file for results\n",
    "prob_rfc.to_csv(os.path.join('outputCNNRNN.csv'), index=False)"
   ]
  },
  {
   "cell_type": "code",
   "execution_count": null,
   "metadata": {},
   "outputs": [],
   "source": []
  },
  {
   "cell_type": "code",
   "execution_count": 30,
   "metadata": {},
   "outputs": [],
   "source": [
    "cnn_prob = model.predict_proba(X_test)"
   ]
  },
  {
   "cell_type": "code",
   "execution_count": 31,
   "metadata": {},
   "outputs": [
    {
     "name": "stdout",
     "output_type": "stream",
     "text": [
      "Saved model to disk\n"
     ]
    }
   ],
   "source": [
    "# Saving and loading model and weights\n",
    "from keras.models import model_from_json\n",
    "from keras.models import load_model\n",
    "\n",
    "# serialize model to JSON\n",
    "model_json = model.to_json()\n",
    "with open(\"rnnmodel.json\", \"w\") as json_file:\n",
    "    json_file.write(model_json)\n",
    "# serialize weights to HDF5\n",
    "model.save_weights(\"rnnmodel.h5\")\n",
    "print(\"Saved model to disk\")"
   ]
  },
  {
   "cell_type": "code",
   "execution_count": 22,
   "metadata": {},
   "outputs": [
    {
     "name": "stdout",
     "output_type": "stream",
     "text": [
      "711\n",
      "273\n",
      "438\n"
     ]
    }
   ],
   "source": [
    "model.predict_proba(X_test)\n",
    "# get the predictions for the test data\n",
    "predicted_classes = model.predict_classes(X_test)\n",
    "print(len(predicted_classes))\n",
    "# get the indices to be plotted\n",
    "\n",
    "y_true = df.iloc[2841:, 1].values\n",
    "correct = np.nonzero(predicted_classes==y_true)[0]\n",
    "incorrect = np.nonzero(predicted_classes!=y_true)[0]\n",
    "print(len(correct))\n",
    "print(len(incorrect))"
   ]
  },
  {
   "cell_type": "code",
   "execution_count": 19,
   "metadata": {},
   "outputs": [
    {
     "name": "stdout",
     "output_type": "stream",
     "text": [
      "711\n"
     ]
    },
    {
     "ename": "NameError",
     "evalue": "name 'predicted_classes' is not defined",
     "output_type": "error",
     "traceback": [
      "\u001b[1;31m---------------------------------------------------------------------------\u001b[0m",
      "\u001b[1;31mNameError\u001b[0m                                 Traceback (most recent call last)",
      "\u001b[1;32m<ipython-input-19-c3d2c402b4c5>\u001b[0m in \u001b[0;36m<module>\u001b[1;34m\u001b[0m\n\u001b[0;32m      1\u001b[0m \u001b[0mprint\u001b[0m\u001b[1;33m(\u001b[0m\u001b[0mlen\u001b[0m\u001b[1;33m(\u001b[0m\u001b[0my_test\u001b[0m\u001b[1;33m)\u001b[0m\u001b[1;33m)\u001b[0m\u001b[1;33m\u001b[0m\u001b[1;33m\u001b[0m\u001b[0m\n\u001b[1;32m----> 2\u001b[1;33m \u001b[0mprint\u001b[0m\u001b[1;33m(\u001b[0m\u001b[0mlen\u001b[0m\u001b[1;33m(\u001b[0m\u001b[0mpredicted_classes\u001b[0m\u001b[1;33m)\u001b[0m\u001b[1;33m)\u001b[0m\u001b[1;33m\u001b[0m\u001b[1;33m\u001b[0m\u001b[0m\n\u001b[0m\u001b[0;32m      3\u001b[0m classes = {0: 'Shirts', \n\u001b[0;32m      4\u001b[0m            \u001b[1;36m1\u001b[0m\u001b[1;33m:\u001b[0m \u001b[1;34m'Shoes'\u001b[0m\u001b[1;33m,\u001b[0m\u001b[1;33m\u001b[0m\u001b[1;33m\u001b[0m\u001b[0m\n\u001b[0;32m      5\u001b[0m            2: 'Trouser'}\n",
      "\u001b[1;31mNameError\u001b[0m: name 'predicted_classes' is not defined"
     ]
    }
   ],
   "source": [
    "print(len(y_test))\n",
    "print(len(predicted_classes))\n",
    "classes = {0: 'Shirts', \n",
    "           1: 'Shoes', \n",
    "           2: 'Trouser'}\n",
    "\n",
    "class_names = ['Shirts','Shoes','Trouser']\n",
    "import itertools\n",
    "from sklearn.metrics import confusion_matrix, classification_report\n",
    "def plot_confusion_matrix(cm, classes,\n",
    "                          title='Confusion matrix',\n",
    "                          cmap=plt.cm.Blues):\n",
    "    plt.figure(figsize = (8,8))\n",
    "    plt.imshow(cm, interpolation='nearest', cmap=cmap)\n",
    "    plt.title(title)\n",
    "    plt.colorbar()\n",
    "    tick_marks = np.arange(len(classes))\n",
    "    plt.xticks(tick_marks, classes, rotation=45)\n",
    "    plt.yticks(tick_marks, classes)\n",
    "\n",
    "    fmt = 'd'\n",
    "    thresh = cm.max() / 2.\n",
    "    for i, j in itertools.product(range(cm.shape[0]), range(cm.shape[1])):\n",
    "        plt.text(j, i, format(cm[i, j], fmt),\n",
    "                 horizontalalignment=\"center\",\n",
    "                 color=\"white\" if cm[i, j] > thresh else \"black\")\n",
    "\n",
    "    \n",
    "    plt.tight_layout()\n",
    "    plt.ylabel('True label')\n",
    "    plt.xlabel('Predicted label')\n",
    "    plt.show()\n",
    "    \n",
    "cnf_matrix = confusion_matrix(df.iloc[1500:, 1], predicted_classes)\n",
    "plot_confusion_matrix(cnf_matrix, classes = class_names)"
   ]
  },
  {
   "cell_type": "code",
   "execution_count": 34,
   "metadata": {},
   "outputs": [
    {
     "name": "stdout",
     "output_type": "stream",
     "text": [
      "--- 62.4 is the Prediction Accuracy ---\n"
     ]
    }
   ],
   "source": [
    "pred_accuracy = (len(correct)/5000) * 100\n",
    "\n",
    "print(\"--- %s is the Prediction Accuracy ---\" % (pred_accuracy))"
   ]
  },
  {
   "cell_type": "code",
   "execution_count": 35,
   "metadata": {},
   "outputs": [
    {
     "data": {
      "text/plain": [
       "335.2088420391083"
      ]
     },
     "execution_count": 35,
     "metadata": {},
     "output_type": "execute_result"
    }
   ],
   "source": [
    "rnn_run_time"
   ]
  },
  {
   "cell_type": "code",
   "execution_count": null,
   "metadata": {},
   "outputs": [],
   "source": []
  }
 ],
 "metadata": {
  "kernelspec": {
   "display_name": "Python 3",
   "language": "python",
   "name": "python3"
  },
  "language_info": {
   "codemirror_mode": {
    "name": "ipython",
    "version": 3
   },
   "file_extension": ".py",
   "mimetype": "text/x-python",
   "name": "python",
   "nbconvert_exporter": "python",
   "pygments_lexer": "ipython3",
   "version": "3.7.1"
  }
 },
 "nbformat": 4,
 "nbformat_minor": 2
}
