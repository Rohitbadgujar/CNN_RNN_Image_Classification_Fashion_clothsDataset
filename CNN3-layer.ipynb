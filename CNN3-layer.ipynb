{
 "cells": [
  {
   "cell_type": "code",
   "execution_count": 2,
   "metadata": {},
   "outputs": [
    {
     "name": "stderr",
     "output_type": "stream",
     "text": [
      "Using TensorFlow backend.\n"
     ]
    }
   ],
   "source": [
    "import os,cv2\n",
    "import numpy as np\n",
    "import matplotlib.pyplot as plt\n",
    "from keras.preprocessing import image\n",
    "from sklearn.utils import shuffle\n",
    "from sklearn.model_selection import train_test_split\n",
    "from keras import backend as K\n",
    "#K.set_image_dim_ordering('th')\n",
    "\n",
    "from keras.utils import np_utils\n",
    "from keras.models import Sequential\n",
    "from keras.layers.core import Dense, Dropout, Activation, Flatten\n",
    "from keras.layers.convolutional import Convolution2D, MaxPooling2D\n",
    "from keras.optimizers import SGD,RMSprop,adam\n",
    "import pandas as pd\n",
    "import csv\n",
    "from os.path import splitext\n",
    "from sklearn.preprocessing import LabelEncoder\n",
    "from PIL import Image\n",
    "from tensorflow.keras.callbacks import TensorBoard"
   ]
  },
  {
   "cell_type": "code",
   "execution_count": 3,
   "metadata": {},
   "outputs": [],
   "source": [
    "NAME = \"CNN3-28-28-img-visual\"\n",
    "\n",
    "tensorboard = TensorBoard(log_dir=\"tensorlogsCNN_visuals/{}\".format(NAME))"
   ]
  },
  {
   "cell_type": "code",
   "execution_count": 4,
   "metadata": {},
   "outputs": [],
   "source": [
    "# Load training and test data into dataframes\n",
    "PATH = os.getcwd()\n",
    "from keras.utils import to_categorical\n",
    "df = pd.read_csv(PATH + '\\\\CNN-image-dataset.csv');\n",
    "\n",
    "df = df.iloc[np.random.permutation(len(df))]\n",
    "data_train = df[0:5000]\n",
    "data_test = df[5001:]\n",
    "\n",
    "# X forms the training images, and y forms the training labels\n",
    "X = np.array(data_train.iloc[:, 3:])\n",
    "y = to_categorical(np.array(data_train.iloc[:, 1]))\n",
    "\n",
    "# Here I split original training data to sub-training (80%) and validation data (20%)\n",
    "X_train, X_val, y_train, y_val = train_test_split(X, y, test_size=0.2, random_state=13)\n",
    "\n",
    "# X_test forms the test images, and y_test forms the test labels\n",
    "X_test = np.array(data_test.iloc[:, 3:])\n",
    "y_test = to_categorical(np.array(data_test.iloc[:, 1]))"
   ]
  },
  {
   "cell_type": "code",
   "execution_count": 5,
   "metadata": {},
   "outputs": [],
   "source": [
    "# Each image's dimension is 28 x 28\n",
    "img_rows, img_cols = 28, 28\n",
    "input_shape = (img_rows, img_cols, 1)\n",
    "\n",
    "# Prepare the training images\n",
    "X_train = X_train.reshape(X_train.shape[0], img_rows, img_cols, 1)\n",
    "X_train = X_train.astype('float32')\n",
    "X_train /= 255\n",
    "\n",
    "# Prepare the test images\n",
    "X_test = X_test.reshape(X_test.shape[0], img_rows, img_cols, 1)\n",
    "X_test = X_test.astype('float32')\n",
    "X_test /= 255\n",
    "\n",
    "# Prepare the validation images\n",
    "X_val = X_val.reshape(X_val.shape[0], img_rows, img_cols, 1)\n",
    "X_val = X_val.astype('float32')\n",
    "X_val /= 255"
   ]
  },
  {
   "cell_type": "code",
   "execution_count": 6,
   "metadata": {},
   "outputs": [
    {
     "name": "stdout",
     "output_type": "stream",
     "text": [
      "(4000, 28, 28, 1)\n",
      "(5000, 28, 28, 1)\n",
      "(1000, 28, 28, 1)\n",
      "(1000, 3)\n"
     ]
    }
   ],
   "source": [
    "print(X_train.shape)\n",
    "print(X_test.shape)\n",
    "print(X_val.shape)\n",
    "print(y_val.shape)"
   ]
  },
  {
   "cell_type": "code",
   "execution_count": 7,
   "metadata": {},
   "outputs": [
    {
     "name": "stdout",
     "output_type": "stream",
     "text": [
      "WARNING:tensorflow:From C:\\Users\\rohit\\Miniconda3\\lib\\site-packages\\tensorflow\\python\\framework\\op_def_library.py:263: colocate_with (from tensorflow.python.framework.ops) is deprecated and will be removed in a future version.\n",
      "Instructions for updating:\n",
      "Colocations handled automatically by placer.\n",
      "WARNING:tensorflow:From C:\\Users\\rohit\\Miniconda3\\lib\\site-packages\\keras\\backend\\tensorflow_backend.py:3445: calling dropout (from tensorflow.python.ops.nn_ops) with keep_prob is deprecated and will be removed in a future version.\n",
      "Instructions for updating:\n",
      "Please use `rate` instead of `keep_prob`. Rate should be set to `rate = 1 - keep_prob`.\n"
     ]
    }
   ],
   "source": [
    "import keras\n",
    "from keras.models import Sequential\n",
    "from keras.layers import Dense, Dropout, Flatten\n",
    "from keras.layers import Conv2D, MaxPooling2D\n",
    "\n",
    "cnn3 = Sequential()\n",
    "cnn3.add(Conv2D(32, kernel_size=(3, 3), activation='relu', input_shape=input_shape))\n",
    "cnn3.add(MaxPooling2D((2, 2)))\n",
    "cnn3.add(Dropout(0.25))\n",
    "\n",
    "cnn3.add(Conv2D(64, kernel_size=(3, 3), activation='relu'))\n",
    "cnn3.add(MaxPooling2D(pool_size=(2, 2)))\n",
    "cnn3.add(Dropout(0.25))\n",
    "\n",
    "cnn3.add(Conv2D(128, kernel_size=(3, 3), activation='relu'))\n",
    "cnn3.add(Dropout(0.4))\n",
    "\n",
    "cnn3.add(Flatten())\n",
    "\n",
    "cnn3.add(Dense(128, activation='relu'))\n",
    "cnn3.add(Dropout(0.3))\n",
    "cnn3.add(Dense(3, activation='softmax'))"
   ]
  },
  {
   "cell_type": "code",
   "execution_count": 8,
   "metadata": {},
   "outputs": [
    {
     "name": "stdout",
     "output_type": "stream",
     "text": [
      "_________________________________________________________________\n",
      "Layer (type)                 Output Shape              Param #   \n",
      "=================================================================\n",
      "conv2d_1 (Conv2D)            (None, 26, 26, 32)        320       \n",
      "_________________________________________________________________\n",
      "max_pooling2d_1 (MaxPooling2 (None, 13, 13, 32)        0         \n",
      "_________________________________________________________________\n",
      "dropout_1 (Dropout)          (None, 13, 13, 32)        0         \n",
      "_________________________________________________________________\n",
      "conv2d_2 (Conv2D)            (None, 11, 11, 64)        18496     \n",
      "_________________________________________________________________\n",
      "max_pooling2d_2 (MaxPooling2 (None, 5, 5, 64)          0         \n",
      "_________________________________________________________________\n",
      "dropout_2 (Dropout)          (None, 5, 5, 64)          0         \n",
      "_________________________________________________________________\n",
      "conv2d_3 (Conv2D)            (None, 3, 3, 128)         73856     \n",
      "_________________________________________________________________\n",
      "dropout_3 (Dropout)          (None, 3, 3, 128)         0         \n",
      "_________________________________________________________________\n",
      "flatten_1 (Flatten)          (None, 1152)              0         \n",
      "_________________________________________________________________\n",
      "dense_1 (Dense)              (None, 128)               147584    \n",
      "_________________________________________________________________\n",
      "dropout_4 (Dropout)          (None, 128)               0         \n",
      "_________________________________________________________________\n",
      "dense_2 (Dense)              (None, 3)                 387       \n",
      "=================================================================\n",
      "Total params: 240,643\n",
      "Trainable params: 240,643\n",
      "Non-trainable params: 0\n",
      "_________________________________________________________________\n"
     ]
    }
   ],
   "source": [
    "\n",
    "cnn3.compile(loss=keras.losses.categorical_crossentropy,\n",
    "              optimizer=keras.optimizers.Adam(),\n",
    "              metrics=['accuracy'])\n",
    "cnn3.summary()"
   ]
  },
  {
   "cell_type": "code",
   "execution_count": 9,
   "metadata": {},
   "outputs": [
    {
     "name": "stdout",
     "output_type": "stream",
     "text": [
      "WARNING:tensorflow:From C:\\Users\\rohit\\Miniconda3\\lib\\site-packages\\tensorflow\\python\\ops\\math_ops.py:3066: to_int32 (from tensorflow.python.ops.math_ops) is deprecated and will be removed in a future version.\n",
      "Instructions for updating:\n",
      "Use tf.cast instead.\n",
      "Train on 4000 samples, validate on 1000 samples\n",
      "Epoch 1/50\n",
      "4000/4000 [==============================] - 6s 1ms/step - loss: 0.8387 - acc: 0.7390 - val_loss: 0.7052 - val_acc: 0.7830\n",
      "Epoch 2/50\n",
      "4000/4000 [==============================] - 4s 978us/step - loss: 0.6875 - acc: 0.7685 - val_loss: 0.6552 - val_acc: 0.7830\n",
      "Epoch 3/50\n",
      "4000/4000 [==============================] - 4s 911us/step - loss: 0.6777 - acc: 0.7685 - val_loss: 0.6437 - val_acc: 0.7830\n",
      "Epoch 4/50\n",
      "4000/4000 [==============================] - 4s 939us/step - loss: 0.6733 - acc: 0.7685 - val_loss: 0.6494 - val_acc: 0.7830\n",
      "Epoch 5/50\n",
      "4000/4000 [==============================] - 4s 961us/step - loss: 0.6731 - acc: 0.7685 - val_loss: 0.6494 - val_acc: 0.7830\n",
      "Epoch 6/50\n",
      "4000/4000 [==============================] - 4s 992us/step - loss: 0.6737 - acc: 0.7685 - val_loss: 0.6404 - val_acc: 0.7830\n",
      "Epoch 7/50\n",
      "4000/4000 [==============================] - 4s 927us/step - loss: 0.6697 - acc: 0.7685 - val_loss: 0.6348 - val_acc: 0.7830\n",
      "Epoch 8/50\n",
      "4000/4000 [==============================] - 4s 1ms/step - loss: 0.6710 - acc: 0.7685 - val_loss: 0.6305 - val_acc: 0.7830\n",
      "Epoch 9/50\n",
      "4000/4000 [==============================] - 4s 953us/step - loss: 0.6708 - acc: 0.7685 - val_loss: 0.6304 - val_acc: 0.7830\n",
      "Epoch 10/50\n",
      "4000/4000 [==============================] - 4s 1ms/step - loss: 0.6729 - acc: 0.7685 - val_loss: 0.6317 - val_acc: 0.7830\n",
      "Epoch 11/50\n",
      "4000/4000 [==============================] - 4s 1ms/step - loss: 0.6710 - acc: 0.7685 - val_loss: 0.6234 - val_acc: 0.7830\n",
      "Epoch 12/50\n",
      "4000/4000 [==============================] - 4s 1ms/step - loss: 0.6660 - acc: 0.7685 - val_loss: 0.6019 - val_acc: 0.7830\n",
      "Epoch 13/50\n",
      "4000/4000 [==============================] - 4s 965us/step - loss: 0.6033 - acc: 0.7685 - val_loss: 0.4823 - val_acc: 0.7830\n",
      "Epoch 14/50\n",
      "4000/4000 [==============================] - 4s 1ms/step - loss: 0.4360 - acc: 0.8437 - val_loss: 0.2766 - val_acc: 0.9280\n",
      "Epoch 15/50\n",
      "4000/4000 [==============================] - 4s 939us/step - loss: 0.2878 - acc: 0.9122 - val_loss: 0.1943 - val_acc: 0.9430\n",
      "Epoch 16/50\n",
      "4000/4000 [==============================] - 4s 979us/step - loss: 0.2222 - acc: 0.9185 - val_loss: 0.1762 - val_acc: 0.9260\n",
      "Epoch 17/50\n",
      "4000/4000 [==============================] - 4s 981us/step - loss: 0.1814 - acc: 0.9310 - val_loss: 0.1109 - val_acc: 0.9630\n",
      "Epoch 18/50\n",
      "4000/4000 [==============================] - 5s 1ms/step - loss: 0.1583 - acc: 0.9427 - val_loss: 0.0989 - val_acc: 0.9750\n",
      "Epoch 19/50\n",
      "4000/4000 [==============================] - 4s 1ms/step - loss: 0.1320 - acc: 0.9545 - val_loss: 0.0857 - val_acc: 0.9750\n",
      "Epoch 20/50\n",
      "4000/4000 [==============================] - 4s 975us/step - loss: 0.1205 - acc: 0.9620 - val_loss: 0.0754 - val_acc: 0.9780\n",
      "Epoch 21/50\n",
      "4000/4000 [==============================] - 4s 968us/step - loss: 0.1076 - acc: 0.9667 - val_loss: 0.0705 - val_acc: 0.9780\n",
      "Epoch 22/50\n",
      "4000/4000 [==============================] - 4s 999us/step - loss: 0.0947 - acc: 0.9700 - val_loss: 0.0654 - val_acc: 0.9810\n",
      "Epoch 23/50\n",
      "4000/4000 [==============================] - 4s 964us/step - loss: 0.0992 - acc: 0.9705 - val_loss: 0.0735 - val_acc: 0.9710\n",
      "Epoch 24/50\n",
      "4000/4000 [==============================] - 4s 952us/step - loss: 0.0972 - acc: 0.9692 - val_loss: 0.0649 - val_acc: 0.9810\n",
      "Epoch 25/50\n",
      "4000/4000 [==============================] - 4s 945us/step - loss: 0.0924 - acc: 0.9722 - val_loss: 0.0592 - val_acc: 0.9810\n",
      "Epoch 26/50\n",
      "4000/4000 [==============================] - 4s 977us/step - loss: 0.0941 - acc: 0.9712 - val_loss: 0.0761 - val_acc: 0.9730\n",
      "Epoch 27/50\n",
      "4000/4000 [==============================] - 4s 937us/step - loss: 0.0842 - acc: 0.9753 - val_loss: 0.0591 - val_acc: 0.9810\n",
      "Epoch 28/50\n",
      "4000/4000 [==============================] - 4s 948us/step - loss: 0.0831 - acc: 0.9768 - val_loss: 0.0562 - val_acc: 0.9810\n",
      "Epoch 29/50\n",
      "4000/4000 [==============================] - 4s 943us/step - loss: 0.0839 - acc: 0.9738 - val_loss: 0.0617 - val_acc: 0.9790\n",
      "Epoch 30/50\n",
      "4000/4000 [==============================] - 4s 1ms/step - loss: 0.0690 - acc: 0.9812 - val_loss: 0.0534 - val_acc: 0.9820\n",
      "Epoch 31/50\n",
      "4000/4000 [==============================] - 4s 935us/step - loss: 0.0758 - acc: 0.9792 - val_loss: 0.0502 - val_acc: 0.9830\n",
      "Epoch 32/50\n",
      "4000/4000 [==============================] - 4s 986us/step - loss: 0.0787 - acc: 0.9750 - val_loss: 0.0496 - val_acc: 0.9850\n",
      "Epoch 33/50\n",
      "4000/4000 [==============================] - 4s 1ms/step - loss: 0.0750 - acc: 0.9782 - val_loss: 0.0494 - val_acc: 0.9830\n",
      "Epoch 34/50\n",
      "4000/4000 [==============================] - 4s 1ms/step - loss: 0.0728 - acc: 0.9782 - val_loss: 0.0477 - val_acc: 0.9830\n",
      "Epoch 35/50\n",
      "4000/4000 [==============================] - 4s 967us/step - loss: 0.0719 - acc: 0.9800 - val_loss: 0.0485 - val_acc: 0.9820\n",
      "Epoch 36/50\n",
      "4000/4000 [==============================] - 4s 969us/step - loss: 0.0702 - acc: 0.9800 - val_loss: 0.0465 - val_acc: 0.9870\n",
      "Epoch 37/50\n",
      "4000/4000 [==============================] - 4s 969us/step - loss: 0.0627 - acc: 0.9810 - val_loss: 0.0447 - val_acc: 0.9860\n",
      "Epoch 38/50\n",
      "4000/4000 [==============================] - 4s 1ms/step - loss: 0.0616 - acc: 0.9815 - val_loss: 0.0409 - val_acc: 0.9870\n",
      "Epoch 39/50\n",
      "4000/4000 [==============================] - 4s 1ms/step - loss: 0.0608 - acc: 0.9820 - val_loss: 0.0430 - val_acc: 0.9860\n",
      "Epoch 40/50\n",
      "4000/4000 [==============================] - 4s 920us/step - loss: 0.0629 - acc: 0.9795 - val_loss: 0.0427 - val_acc: 0.9840\n",
      "Epoch 41/50\n",
      "4000/4000 [==============================] - 4s 1ms/step - loss: 0.0554 - acc: 0.9838 - val_loss: 0.0411 - val_acc: 0.9870\n",
      "Epoch 42/50\n",
      "4000/4000 [==============================] - 4s 973us/step - loss: 0.0622 - acc: 0.9802 - val_loss: 0.0413 - val_acc: 0.9840\n",
      "Epoch 43/50\n",
      "4000/4000 [==============================] - 4s 913us/step - loss: 0.0577 - acc: 0.9830 - val_loss: 0.0404 - val_acc: 0.9850\n",
      "Epoch 44/50\n",
      "4000/4000 [==============================] - 4s 894us/step - loss: 0.0551 - acc: 0.9850 - val_loss: 0.0399 - val_acc: 0.9870\n",
      "Epoch 45/50\n",
      "4000/4000 [==============================] - 4s 932us/step - loss: 0.0572 - acc: 0.9822 - val_loss: 0.0425 - val_acc: 0.9840\n",
      "Epoch 46/50\n",
      "4000/4000 [==============================] - 4s 943us/step - loss: 0.0538 - acc: 0.9835 - val_loss: 0.0342 - val_acc: 0.9900\n",
      "Epoch 47/50\n",
      "4000/4000 [==============================] - 4s 903us/step - loss: 0.0543 - acc: 0.9843 - val_loss: 0.0362 - val_acc: 0.9890\n",
      "Epoch 48/50\n",
      "4000/4000 [==============================] - 4s 922us/step - loss: 0.0502 - acc: 0.9840 - val_loss: 0.0345 - val_acc: 0.9900\n",
      "Epoch 49/50\n",
      "4000/4000 [==============================] - 4s 921us/step - loss: 0.0490 - acc: 0.9865 - val_loss: 0.0364 - val_acc: 0.9870\n",
      "Epoch 50/50\n",
      "4000/4000 [==============================] - 4s 932us/step - loss: 0.0495 - acc: 0.9862 - val_loss: 0.0337 - val_acc: 0.9900\n",
      "--- 201.62018084526062 seconds ---\n"
     ]
    }
   ],
   "source": [
    "import time\n",
    "start_time = time.time()\n",
    "history3 = cnn3.fit(X_train, y_train,\n",
    "          batch_size=256,\n",
    "          epochs=50,\n",
    "          verbose=1,\n",
    "          validation_data=(X_val, y_val),\n",
    "          callbacks=[tensorboard]         )\n",
    "\n",
    "print(\"--- %s seconds ---\" % (time.time() - start_time))\n",
    "cnn4_time = time.time() - start_time"
   ]
  },
  {
   "cell_type": "code",
   "execution_count": 9,
   "metadata": {},
   "outputs": [
    {
     "name": "stdout",
     "output_type": "stream",
     "text": [
      "Test loss: 0.027950940331252058\n",
      "Test accuracy: 0.9932\n"
     ]
    }
   ],
   "source": [
    "score3 = cnn3.evaluate(X_test, y_test, verbose=0)\n",
    "print('Test loss:', score3[0])\n",
    "print('Test accuracy:', score3[1])"
   ]
  },
  {
   "cell_type": "code",
   "execution_count": 11,
   "metadata": {},
   "outputs": [
    {
     "name": "stdout",
     "output_type": "stream",
     "text": [
      "50\n"
     ]
    },
    {
     "data": {
      "text/plain": [
       "<matplotlib.legend.Legend at 0x1d7544b2710>"
      ]
     },
     "execution_count": 11,
     "metadata": {},
     "output_type": "execute_result"
    },
    {
     "data": {
      "image/png": "[encoded data removed]",
      "text/plain": [
       "<Figure size 504x360 with 1 Axes>"
      ]
     },
     "metadata": {
      "needs_background": "light"
     },
     "output_type": "display_data"
    },
    {
     "data": {
      "image/png": "[encoded data removed]",
      "text/plain": [
       "<Figure size 504x360 with 1 Axes>"
      ]
     },
     "metadata": {
      "needs_background": "light"
     },
     "output_type": "display_data"
    }
   ],
   "source": [
    "# visualizing losses and accuracy\n",
    "train_loss=history3.history['loss']\n",
    "val_loss=history3.history['val_loss']\n",
    "train_acc=history3.history['acc']\n",
    "val_acc=history3.history['val_acc']\n",
    "xc=range(50)\n",
    "print(len(train_loss))\n",
    "plt.figure(1,figsize=(7,5))\n",
    "plt.plot(xc,train_loss)\n",
    "plt.plot(xc,val_loss)\n",
    "plt.xlabel('num of Epochs')\n",
    "plt.ylabel('loss')\n",
    "plt.title('train_loss vs val_loss')\n",
    "plt.grid(True)\n",
    "plt.legend(['train','val'])\n",
    "#print plt.style.available # use bmh, classic,ggplot for big pictures\n",
    "#plt.style.use(['classic'])\n",
    "\n",
    "plt.figure(2,figsize=(7,5))\n",
    "plt.plot(xc,train_acc)\n",
    "plt.plot(xc,val_acc)\n",
    "plt.xlabel('num of Epochs')\n",
    "plt.ylabel('accuracy')\n",
    "plt.title('train_acc vs val_acc')\n",
    "plt.grid(True)\n",
    "plt.legend(['train','val'],loc=4)"
   ]
  },
  {
   "cell_type": "code",
   "execution_count": 12,
   "metadata": {},
   "outputs": [],
   "source": [
    "# get the predictions for the test data\n",
    "predicted_classes = cnn3.predict_classes(X_test)\n",
    "\n",
    "# get the indices to be plotted\n",
    "y_true = data_test.iloc[:, 1].values\n",
    "correct = np.nonzero(predicted_classes==y_true)[0]\n",
    "incorrect = np.nonzero(predicted_classes!=y_true)[0]"
   ]
  },
  {
   "cell_type": "code",
   "execution_count": 13,
   "metadata": {},
   "outputs": [
    {
     "data": {
      "text/plain": [
       "4966"
      ]
     },
     "execution_count": 13,
     "metadata": {},
     "output_type": "execute_result"
    }
   ],
   "source": [
    "len(correct)"
   ]
  },
  {
   "cell_type": "code",
   "execution_count": 14,
   "metadata": {},
   "outputs": [
    {
     "data": {
      "text/plain": [
       "34"
      ]
     },
     "execution_count": 14,
     "metadata": {},
     "output_type": "execute_result"
    }
   ],
   "source": [
    "len(incorrect)"
   ]
  },
  {
   "cell_type": "code",
   "execution_count": 15,
   "metadata": {},
   "outputs": [
    {
     "name": "stdout",
     "output_type": "stream",
     "text": [
      "Saved model to disk\n"
     ]
    }
   ],
   "source": [
    "# Saving and loading model and weights\n",
    "from keras.models import model_from_json\n",
    "from keras.models import load_model\n",
    "\n",
    "# serialize model to JSON\n",
    "model_json = cnn3.to_json()\n",
    "with open(\"cnn3.json\", \"w\") as json_file:\n",
    "    json_file.write(model_json)\n",
    "# serialize weights to HDF5\n",
    "cnn3.save_weights(\"cnn3.h5\")\n",
    "print(\"Saved model to disk\")"
   ]
  },
  {
   "cell_type": "code",
   "execution_count": 16,
   "metadata": {},
   "outputs": [
    {
     "data": {
      "text/plain": [
       "array([[9.9915969e-01, 5.7413899e-07, 8.3977787e-04],\n",
       "       [9.9899608e-01, 5.7732757e-07, 1.0033470e-03],\n",
       "       [9.9921763e-01, 7.2243488e-06, 7.7506842e-04],\n",
       "       ...,\n",
       "       [9.9887365e-01, 2.9227897e-04, 8.3402795e-04],\n",
       "       [9.9867600e-01, 2.7518026e-06, 1.3212685e-03],\n",
       "       [9.9986482e-01, 2.1213219e-07, 1.3495464e-04]], dtype=float32)"
      ]
     },
     "execution_count": 16,
     "metadata": {},
     "output_type": "execute_result"
    }
   ],
   "source": [
    "cnn3.predict_proba(X_test)"
   ]
  },
  {
   "cell_type": "code",
   "execution_count": 17,
   "metadata": {},
   "outputs": [
    {
     "name": "stdout",
     "output_type": "stream",
     "text": [
      "5000\n",
      "5000\n"
     ]
    },
    {
     "data": {
      "image/png": "[encoded data removed]",
      "text/plain": [
       "<Figure size 576x576 with 2 Axes>"
      ]
     },
     "metadata": {
      "needs_background": "light"
     },
     "output_type": "display_data"
    }
   ],
   "source": [
    "print(len(y_test))\n",
    "print(len(predicted_classes))\n",
    "classes = {0: 'Shirts', \n",
    "           1: 'Shoes', \n",
    "           2: 'Trouser'}\n",
    "\n",
    "class_names = ['Shirts','Shoes','Trouser']\n",
    "import itertools\n",
    "from sklearn.metrics import confusion_matrix, classification_report\n",
    "def plot_confusion_matrix(cm, classes,\n",
    "                          title='Confusion matrix',\n",
    "                          cmap=plt.cm.Blues):\n",
    "    plt.figure(figsize = (8,8))\n",
    "    plt.imshow(cm, interpolation='nearest', cmap=cmap)\n",
    "    plt.title(title)\n",
    "    plt.colorbar()\n",
    "    tick_marks = np.arange(len(classes))\n",
    "    plt.xticks(tick_marks, classes, rotation=45)\n",
    "    plt.yticks(tick_marks, classes)\n",
    "\n",
    "    fmt = 'd'\n",
    "    thresh = cm.max() / 2.\n",
    "    for i, j in itertools.product(range(cm.shape[0]), range(cm.shape[1])):\n",
    "        plt.text(j, i, format(cm[i, j], fmt),\n",
    "                 horizontalalignment=\"center\",\n",
    "                 color=\"white\" if cm[i, j] > thresh else \"black\")\n",
    "\n",
    "    \n",
    "    plt.tight_layout()\n",
    "    plt.ylabel('True label')\n",
    "    plt.xlabel('Predicted label')\n",
    "    plt.show()\n",
    "    \n",
    "cnf_matrix = confusion_matrix(data_test.iloc[:, 1], predicted_classes)\n",
    "plot_confusion_matrix(cnf_matrix, classes = class_names)"
   ]
  },
  {
   "cell_type": "code",
   "execution_count": 18,
   "metadata": {},
   "outputs": [
    {
     "name": "stdout",
     "output_type": "stream",
     "text": [
      "--- 99.32 is the Prediction Accuracy ---\n"
     ]
    }
   ],
   "source": [
    "pred_accuracy = (len(correct)/5000) * 100\n",
    "\n",
    "print(\"--- %s is the Prediction Accuracy ---\" % (pred_accuracy))"
   ]
  },
  {
   "cell_type": "code",
   "execution_count": 19,
   "metadata": {},
   "outputs": [
    {
     "data": {
      "text/plain": [
       "99.32"
      ]
     },
     "execution_count": 19,
     "metadata": {},
     "output_type": "execute_result"
    }
   ],
   "source": [
    "pred_accuracy"
   ]
  },
  {
   "cell_type": "code",
   "execution_count": 20,
   "metadata": {},
   "outputs": [
    {
     "data": {
      "text/plain": [
       "371.58183670043945"
      ]
     },
     "execution_count": 20,
     "metadata": {},
     "output_type": "execute_result"
    }
   ],
   "source": [
    "cnn4_time"
   ]
  },
  {
   "cell_type": "code",
   "execution_count": null,
   "metadata": {},
   "outputs": [],
   "source": []
  }
 ],
 "metadata": {
  "kernelspec": {
   "display_name": "Python 3",
   "language": "python",
   "name": "python3"
  },
  "language_info": {
   "codemirror_mode": {
    "name": "ipython",
    "version": 3
   },
   "file_extension": ".py",
   "mimetype": "text/x-python",
   "name": "python",
   "nbconvert_exporter": "python",
   "pygments_lexer": "ipython3",
   "version": "3.7.1"
  }
 },
 "nbformat": 4,
 "nbformat_minor": 2
}
